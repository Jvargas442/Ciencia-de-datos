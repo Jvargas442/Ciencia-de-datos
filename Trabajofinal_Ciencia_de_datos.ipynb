{
  "nbformat": 4,
  "nbformat_minor": 0,
  "metadata": {
    "colab": {
      "provenance": [],
      "mount_file_id": "1e-vZ3mqaMnzB4naMSdsZ_xiIu1N2BXBM",
      "authorship_tag": "ABX9TyPZnhvsC2jDvgAIkQPNI9ZL",
      "include_colab_link": true
    },
    "kernelspec": {
      "name": "python3",
      "display_name": "Python 3"
    },
    "language_info": {
      "name": "python"
    }
  },
  "cells": [
    {
      "cell_type": "markdown",
      "metadata": {
        "id": "view-in-github",
        "colab_type": "text"
      },
      "source": [
        "<a href=\"https://colab.research.google.com/github/Jvargas442/Ciencia-de-datos/blob/main/Trabajofinal_Ciencia_de_datos.ipynb\" target=\"_parent\"><img src=\"https://colab.research.google.com/assets/colab-badge.svg\" alt=\"Open In Colab\"/></a>"
      ]
    },
    {
      "cell_type": "markdown",
      "source": [
        "# Introducción\n",
        "Este informe presenta un análisis de desempeño de un jugador de League of Legends (LoL) perteneciente a la selección de la Universidad, basado en sus estadísticas de juego recientes. A través del uso de herramientas de ciencia de datos en Python, se realiza una exploración descriptiva, comparativa y predictiva que permite identificar patrones de comportamiento y rendimiento en diferentes condiciones de juego. Se presta especial atención al tipo de partida (en dúo o en solitario), al uso de campeones específicos, y a la relación entre variables clave como asesinatos, asistencias, oro por minuto y porcentaje de victorias."
      ],
      "metadata": {
        "id": "FJbzUE7yMhcv"
      }
    },
    {
      "cell_type": "markdown",
      "source": [
        "# Índice\n",
        "## Introducción\n",
        "\n",
        "## Descripción de los datos\n",
        "\n",
        "## Análisis estadístico descriptivo\n",
        "\n",
        "\n",
        "1.   Desempeño general\n",
        "2.   Comparación dúo vs solo\n",
        "3. Estadísticas por campeón\n",
        "\n",
        "## Visualización de datos\n",
        "\n",
        "1. Histogramas y gráficos de densidad\n",
        "\n",
        "2. Boxplots y diagramas de barras\n",
        "\n",
        "## Análisis destacables\n",
        "\n",
        "1. Winrate por modo de juego\n",
        "2. Combinaciones efectivas jugador-campeón\n",
        "3. Indicadores llamativos del rendimiento"
      ],
      "metadata": {
        "id": "9eRtSQ2WMuf0"
      }
    },
    {
      "cell_type": "code",
      "source": [
        "!pip install statsmodels\n"
      ],
      "metadata": {
        "id": "maGiWKheJi-h",
        "colab": {
          "base_uri": "https://localhost:8080/"
        },
        "outputId": "cdf71f5c-a291-4937-bffc-27167f4a1fea"
      },
      "execution_count": 32,
      "outputs": [
        {
          "output_type": "stream",
          "name": "stdout",
          "text": [
            "Requirement already satisfied: statsmodels in /usr/local/lib/python3.11/dist-packages (0.14.4)\n",
            "Requirement already satisfied: numpy<3,>=1.22.3 in /usr/local/lib/python3.11/dist-packages (from statsmodels) (2.0.2)\n",
            "Requirement already satisfied: scipy!=1.9.2,>=1.8 in /usr/local/lib/python3.11/dist-packages (from statsmodels) (1.15.3)\n",
            "Requirement already satisfied: pandas!=2.1.0,>=1.4 in /usr/local/lib/python3.11/dist-packages (from statsmodels) (2.2.2)\n",
            "Requirement already satisfied: patsy>=0.5.6 in /usr/local/lib/python3.11/dist-packages (from statsmodels) (1.0.1)\n",
            "Requirement already satisfied: packaging>=21.3 in /usr/local/lib/python3.11/dist-packages (from statsmodels) (24.2)\n",
            "Requirement already satisfied: python-dateutil>=2.8.2 in /usr/local/lib/python3.11/dist-packages (from pandas!=2.1.0,>=1.4->statsmodels) (2.9.0.post0)\n",
            "Requirement already satisfied: pytz>=2020.1 in /usr/local/lib/python3.11/dist-packages (from pandas!=2.1.0,>=1.4->statsmodels) (2025.2)\n",
            "Requirement already satisfied: tzdata>=2022.7 in /usr/local/lib/python3.11/dist-packages (from pandas!=2.1.0,>=1.4->statsmodels) (2025.2)\n",
            "Requirement already satisfied: six>=1.5 in /usr/local/lib/python3.11/dist-packages (from python-dateutil>=2.8.2->pandas!=2.1.0,>=1.4->statsmodels) (1.17.0)\n"
          ]
        }
      ]
    },
    {
      "cell_type": "code",
      "source": [
        "!pip install wquantiles"
      ],
      "metadata": {
        "id": "DeJm-qJzJlj2",
        "colab": {
          "base_uri": "https://localhost:8080/"
        },
        "outputId": "cbf2d4a8-39ba-4f11-a0ee-6225aef2eebe"
      },
      "execution_count": 33,
      "outputs": [
        {
          "output_type": "stream",
          "name": "stdout",
          "text": [
            "Requirement already satisfied: wquantiles in /usr/local/lib/python3.11/dist-packages (0.6)\n",
            "Requirement already satisfied: numpy>=1.18 in /usr/local/lib/python3.11/dist-packages (from wquantiles) (2.0.2)\n"
          ]
        }
      ]
    },
    {
      "cell_type": "code",
      "source": [
        "import pandas as pd\n",
        "import numpy as np\n",
        "from scipy.stats import trim_mean\n",
        "import wquantiles\n",
        "import seaborn as sns\n",
        "import matplotlib.pyplot as plt"
      ],
      "metadata": {
        "id": "RSmBsHetJpKd"
      },
      "execution_count": 34,
      "outputs": []
    },
    {
      "cell_type": "code",
      "source": [
        "from google.colab import files\n",
        "uploaded = files.upload()\n"
      ],
      "metadata": {
        "colab": {
          "base_uri": "https://localhost:8080/",
          "height": 73
        },
        "id": "qRbyJEQzKjU_",
        "outputId": "e15f6bca-599f-4741-ec43-8bebb2b2a31c"
      },
      "execution_count": 35,
      "outputs": [
        {
          "output_type": "display_data",
          "data": {
            "text/plain": [
              "<IPython.core.display.HTML object>"
            ],
            "text/html": [
              "\n",
              "     <input type=\"file\" id=\"files-dc441e7b-0249-4152-82ef-af91c4a9b32e\" name=\"files[]\" multiple disabled\n",
              "        style=\"border:none\" />\n",
              "     <output id=\"result-dc441e7b-0249-4152-82ef-af91c4a9b32e\">\n",
              "      Upload widget is only available when the cell has been executed in the\n",
              "      current browser session. Please rerun this cell to enable.\n",
              "      </output>\n",
              "      <script>// Copyright 2017 Google LLC\n",
              "//\n",
              "// Licensed under the Apache License, Version 2.0 (the \"License\");\n",
              "// you may not use this file except in compliance with the License.\n",
              "// You may obtain a copy of the License at\n",
              "//\n",
              "//      http://www.apache.org/licenses/LICENSE-2.0\n",
              "//\n",
              "// Unless required by applicable law or agreed to in writing, software\n",
              "// distributed under the License is distributed on an \"AS IS\" BASIS,\n",
              "// WITHOUT WARRANTIES OR CONDITIONS OF ANY KIND, either express or implied.\n",
              "// See the License for the specific language governing permissions and\n",
              "// limitations under the License.\n",
              "\n",
              "/**\n",
              " * @fileoverview Helpers for google.colab Python module.\n",
              " */\n",
              "(function(scope) {\n",
              "function span(text, styleAttributes = {}) {\n",
              "  const element = document.createElement('span');\n",
              "  element.textContent = text;\n",
              "  for (const key of Object.keys(styleAttributes)) {\n",
              "    element.style[key] = styleAttributes[key];\n",
              "  }\n",
              "  return element;\n",
              "}\n",
              "\n",
              "// Max number of bytes which will be uploaded at a time.\n",
              "const MAX_PAYLOAD_SIZE = 100 * 1024;\n",
              "\n",
              "function _uploadFiles(inputId, outputId) {\n",
              "  const steps = uploadFilesStep(inputId, outputId);\n",
              "  const outputElement = document.getElementById(outputId);\n",
              "  // Cache steps on the outputElement to make it available for the next call\n",
              "  // to uploadFilesContinue from Python.\n",
              "  outputElement.steps = steps;\n",
              "\n",
              "  return _uploadFilesContinue(outputId);\n",
              "}\n",
              "\n",
              "// This is roughly an async generator (not supported in the browser yet),\n",
              "// where there are multiple asynchronous steps and the Python side is going\n",
              "// to poll for completion of each step.\n",
              "// This uses a Promise to block the python side on completion of each step,\n",
              "// then passes the result of the previous step as the input to the next step.\n",
              "function _uploadFilesContinue(outputId) {\n",
              "  const outputElement = document.getElementById(outputId);\n",
              "  const steps = outputElement.steps;\n",
              "\n",
              "  const next = steps.next(outputElement.lastPromiseValue);\n",
              "  return Promise.resolve(next.value.promise).then((value) => {\n",
              "    // Cache the last promise value to make it available to the next\n",
              "    // step of the generator.\n",
              "    outputElement.lastPromiseValue = value;\n",
              "    return next.value.response;\n",
              "  });\n",
              "}\n",
              "\n",
              "/**\n",
              " * Generator function which is called between each async step of the upload\n",
              " * process.\n",
              " * @param {string} inputId Element ID of the input file picker element.\n",
              " * @param {string} outputId Element ID of the output display.\n",
              " * @return {!Iterable<!Object>} Iterable of next steps.\n",
              " */\n",
              "function* uploadFilesStep(inputId, outputId) {\n",
              "  const inputElement = document.getElementById(inputId);\n",
              "  inputElement.disabled = false;\n",
              "\n",
              "  const outputElement = document.getElementById(outputId);\n",
              "  outputElement.innerHTML = '';\n",
              "\n",
              "  const pickedPromise = new Promise((resolve) => {\n",
              "    inputElement.addEventListener('change', (e) => {\n",
              "      resolve(e.target.files);\n",
              "    });\n",
              "  });\n",
              "\n",
              "  const cancel = document.createElement('button');\n",
              "  inputElement.parentElement.appendChild(cancel);\n",
              "  cancel.textContent = 'Cancel upload';\n",
              "  const cancelPromise = new Promise((resolve) => {\n",
              "    cancel.onclick = () => {\n",
              "      resolve(null);\n",
              "    };\n",
              "  });\n",
              "\n",
              "  // Wait for the user to pick the files.\n",
              "  const files = yield {\n",
              "    promise: Promise.race([pickedPromise, cancelPromise]),\n",
              "    response: {\n",
              "      action: 'starting',\n",
              "    }\n",
              "  };\n",
              "\n",
              "  cancel.remove();\n",
              "\n",
              "  // Disable the input element since further picks are not allowed.\n",
              "  inputElement.disabled = true;\n",
              "\n",
              "  if (!files) {\n",
              "    return {\n",
              "      response: {\n",
              "        action: 'complete',\n",
              "      }\n",
              "    };\n",
              "  }\n",
              "\n",
              "  for (const file of files) {\n",
              "    const li = document.createElement('li');\n",
              "    li.append(span(file.name, {fontWeight: 'bold'}));\n",
              "    li.append(span(\n",
              "        `(${file.type || 'n/a'}) - ${file.size} bytes, ` +\n",
              "        `last modified: ${\n",
              "            file.lastModifiedDate ? file.lastModifiedDate.toLocaleDateString() :\n",
              "                                    'n/a'} - `));\n",
              "    const percent = span('0% done');\n",
              "    li.appendChild(percent);\n",
              "\n",
              "    outputElement.appendChild(li);\n",
              "\n",
              "    const fileDataPromise = new Promise((resolve) => {\n",
              "      const reader = new FileReader();\n",
              "      reader.onload = (e) => {\n",
              "        resolve(e.target.result);\n",
              "      };\n",
              "      reader.readAsArrayBuffer(file);\n",
              "    });\n",
              "    // Wait for the data to be ready.\n",
              "    let fileData = yield {\n",
              "      promise: fileDataPromise,\n",
              "      response: {\n",
              "        action: 'continue',\n",
              "      }\n",
              "    };\n",
              "\n",
              "    // Use a chunked sending to avoid message size limits. See b/62115660.\n",
              "    let position = 0;\n",
              "    do {\n",
              "      const length = Math.min(fileData.byteLength - position, MAX_PAYLOAD_SIZE);\n",
              "      const chunk = new Uint8Array(fileData, position, length);\n",
              "      position += length;\n",
              "\n",
              "      const base64 = btoa(String.fromCharCode.apply(null, chunk));\n",
              "      yield {\n",
              "        response: {\n",
              "          action: 'append',\n",
              "          file: file.name,\n",
              "          data: base64,\n",
              "        },\n",
              "      };\n",
              "\n",
              "      let percentDone = fileData.byteLength === 0 ?\n",
              "          100 :\n",
              "          Math.round((position / fileData.byteLength) * 100);\n",
              "      percent.textContent = `${percentDone}% done`;\n",
              "\n",
              "    } while (position < fileData.byteLength);\n",
              "  }\n",
              "\n",
              "  // All done.\n",
              "  yield {\n",
              "    response: {\n",
              "      action: 'complete',\n",
              "    }\n",
              "  };\n",
              "}\n",
              "\n",
              "scope.google = scope.google || {};\n",
              "scope.google.colab = scope.google.colab || {};\n",
              "scope.google.colab._files = {\n",
              "  _uploadFiles,\n",
              "  _uploadFilesContinue,\n",
              "};\n",
              "})(self);\n",
              "</script> "
            ]
          },
          "metadata": {}
        },
        {
          "output_type": "stream",
          "name": "stdout",
          "text": [
            "Saving datos_lol_actualizado (1).xlsx to datos_lol_actualizado (1).xlsx\n"
          ]
        }
      ]
    },
    {
      "cell_type": "code",
      "source": [
        "file_path = \"datos_lol_actualizado (1).xlsx\"\n",
        "hojas = pd.ExcelFile(file_path).sheet_names\n",
        "print(\"Hojas disponibles en el archivo:\", hojas)\n",
        "df = pd.read_excel(file_path, sheet_name=\"Sheet1\")"
      ],
      "metadata": {
        "id": "rR92oJ81Kq8L",
        "colab": {
          "base_uri": "https://localhost:8080/"
        },
        "outputId": "b15327d5-2776-4e54-96c5-d1f4926bcaea"
      },
      "execution_count": 36,
      "outputs": [
        {
          "output_type": "stream",
          "name": "stdout",
          "text": [
            "Hojas disponibles en el archivo: ['Sheet1']\n"
          ]
        }
      ]
    },
    {
      "cell_type": "code",
      "source": [
        "csv_file_path = \"/content/datos_lol_actualizado (1).xlsx\"\n",
        "df.to_csv(csv_file_path, index=False)\n",
        "\n",
        "print(f\"Archivo convertido y guardado como {csv_file_path}\")"
      ],
      "metadata": {
        "id": "7rjI7laDKwEX",
        "colab": {
          "base_uri": "https://localhost:8080/"
        },
        "outputId": "9377cf2f-bc20-4b4b-b391-733fff618da3"
      },
      "execution_count": 37,
      "outputs": [
        {
          "output_type": "stream",
          "name": "stdout",
          "text": [
            "Archivo convertido y guardado como /content/datos_lol_actualizado (1).xlsx\n"
          ]
        }
      ]
    },
    {
      "cell_type": "code",
      "source": [
        "estado=pd.read_csv(\"/content/datos_lol_actualizado (1).xlsx\")"
      ],
      "metadata": {
        "id": "QHS7DAfMK9Xi"
      },
      "execution_count": 38,
      "outputs": []
    },
    {
      "cell_type": "markdown",
      "source": [
        "# Descripción de los datos"
      ],
      "metadata": {
        "id": "nnKnZPIlNDwc"
      }
    },
    {
      "cell_type": "code",
      "source": [
        "estado.head()"
      ],
      "metadata": {
        "id": "Jq1yluegLCCj",
        "colab": {
          "base_uri": "https://localhost:8080/",
          "height": 241
        },
        "outputId": "e8553c56-4c79-4a0d-895e-dc1c04de59c1"
      },
      "execution_count": 39,
      "outputs": [
        {
          "output_type": "execute_result",
          "data": {
            "text/plain": [
              "  Campeón    KDA  Kills  Deaths  Assists  Kill Participa(%)  Wards Coloc  \\\n",
              "0    Lulu  10.00      0       2       20               54.0           26   \n",
              "1    Lulu  15.00      1       1       14               60.0           17   \n",
              "2    Lulu   5.00      1       5       24               68.0           23   \n",
              "3   Leona   1.29      0       7        9               39.0           34   \n",
              "4    Lulu   3.25      0       4       13               72.0           23   \n",
              "\n",
              "   Control Wards  Wards Elimi  Wards por M  Duración(minutos)  Daño Infligido  \\\n",
              "0              5            3     0.896552                 29            5418   \n",
              "1              5            2     0.772727                 22            4558   \n",
              "2              6            5     0.884615                 26            6683   \n",
              "3              9           11     1.062500                 32            7642   \n",
              "4              5            2     1.000000                 23            3859   \n",
              "\n",
              "   Daño Recibido  Total de Oro Posición del  Victoria  Duo  Oro por Minuto  \n",
              "0          16028          9152    2do Mejor         1    0      315.586207  \n",
              "1           6650          6780    3er Mejor         1    1      308.181818  \n",
              "2          15600          8771    2do Mejor         1    1      337.346154  \n",
              "3          28891          7645   10mo Lugar         0    0      238.906250  \n",
              "4          11294          6034    2do Mejor         1    1      262.347826  "
            ],
            "text/html": [
              "\n",
              "  <div id=\"df-c8befdfb-69d4-4ff2-a4f8-70e327b3c9af\" class=\"colab-df-container\">\n",
              "    <div>\n",
              "<style scoped>\n",
              "    .dataframe tbody tr th:only-of-type {\n",
              "        vertical-align: middle;\n",
              "    }\n",
              "\n",
              "    .dataframe tbody tr th {\n",
              "        vertical-align: top;\n",
              "    }\n",
              "\n",
              "    .dataframe thead th {\n",
              "        text-align: right;\n",
              "    }\n",
              "</style>\n",
              "<table border=\"1\" class=\"dataframe\">\n",
              "  <thead>\n",
              "    <tr style=\"text-align: right;\">\n",
              "      <th></th>\n",
              "      <th>Campeón</th>\n",
              "      <th>KDA</th>\n",
              "      <th>Kills</th>\n",
              "      <th>Deaths</th>\n",
              "      <th>Assists</th>\n",
              "      <th>Kill Participa(%)</th>\n",
              "      <th>Wards Coloc</th>\n",
              "      <th>Control Wards</th>\n",
              "      <th>Wards Elimi</th>\n",
              "      <th>Wards por M</th>\n",
              "      <th>Duración(minutos)</th>\n",
              "      <th>Daño Infligido</th>\n",
              "      <th>Daño Recibido</th>\n",
              "      <th>Total de Oro</th>\n",
              "      <th>Posición del</th>\n",
              "      <th>Victoria</th>\n",
              "      <th>Duo</th>\n",
              "      <th>Oro por Minuto</th>\n",
              "    </tr>\n",
              "  </thead>\n",
              "  <tbody>\n",
              "    <tr>\n",
              "      <th>0</th>\n",
              "      <td>Lulu</td>\n",
              "      <td>10.00</td>\n",
              "      <td>0</td>\n",
              "      <td>2</td>\n",
              "      <td>20</td>\n",
              "      <td>54.0</td>\n",
              "      <td>26</td>\n",
              "      <td>5</td>\n",
              "      <td>3</td>\n",
              "      <td>0.896552</td>\n",
              "      <td>29</td>\n",
              "      <td>5418</td>\n",
              "      <td>16028</td>\n",
              "      <td>9152</td>\n",
              "      <td>2do Mejor</td>\n",
              "      <td>1</td>\n",
              "      <td>0</td>\n",
              "      <td>315.586207</td>\n",
              "    </tr>\n",
              "    <tr>\n",
              "      <th>1</th>\n",
              "      <td>Lulu</td>\n",
              "      <td>15.00</td>\n",
              "      <td>1</td>\n",
              "      <td>1</td>\n",
              "      <td>14</td>\n",
              "      <td>60.0</td>\n",
              "      <td>17</td>\n",
              "      <td>5</td>\n",
              "      <td>2</td>\n",
              "      <td>0.772727</td>\n",
              "      <td>22</td>\n",
              "      <td>4558</td>\n",
              "      <td>6650</td>\n",
              "      <td>6780</td>\n",
              "      <td>3er Mejor</td>\n",
              "      <td>1</td>\n",
              "      <td>1</td>\n",
              "      <td>308.181818</td>\n",
              "    </tr>\n",
              "    <tr>\n",
              "      <th>2</th>\n",
              "      <td>Lulu</td>\n",
              "      <td>5.00</td>\n",
              "      <td>1</td>\n",
              "      <td>5</td>\n",
              "      <td>24</td>\n",
              "      <td>68.0</td>\n",
              "      <td>23</td>\n",
              "      <td>6</td>\n",
              "      <td>5</td>\n",
              "      <td>0.884615</td>\n",
              "      <td>26</td>\n",
              "      <td>6683</td>\n",
              "      <td>15600</td>\n",
              "      <td>8771</td>\n",
              "      <td>2do Mejor</td>\n",
              "      <td>1</td>\n",
              "      <td>1</td>\n",
              "      <td>337.346154</td>\n",
              "    </tr>\n",
              "    <tr>\n",
              "      <th>3</th>\n",
              "      <td>Leona</td>\n",
              "      <td>1.29</td>\n",
              "      <td>0</td>\n",
              "      <td>7</td>\n",
              "      <td>9</td>\n",
              "      <td>39.0</td>\n",
              "      <td>34</td>\n",
              "      <td>9</td>\n",
              "      <td>11</td>\n",
              "      <td>1.062500</td>\n",
              "      <td>32</td>\n",
              "      <td>7642</td>\n",
              "      <td>28891</td>\n",
              "      <td>7645</td>\n",
              "      <td>10mo Lugar</td>\n",
              "      <td>0</td>\n",
              "      <td>0</td>\n",
              "      <td>238.906250</td>\n",
              "    </tr>\n",
              "    <tr>\n",
              "      <th>4</th>\n",
              "      <td>Lulu</td>\n",
              "      <td>3.25</td>\n",
              "      <td>0</td>\n",
              "      <td>4</td>\n",
              "      <td>13</td>\n",
              "      <td>72.0</td>\n",
              "      <td>23</td>\n",
              "      <td>5</td>\n",
              "      <td>2</td>\n",
              "      <td>1.000000</td>\n",
              "      <td>23</td>\n",
              "      <td>3859</td>\n",
              "      <td>11294</td>\n",
              "      <td>6034</td>\n",
              "      <td>2do Mejor</td>\n",
              "      <td>1</td>\n",
              "      <td>1</td>\n",
              "      <td>262.347826</td>\n",
              "    </tr>\n",
              "  </tbody>\n",
              "</table>\n",
              "</div>\n",
              "    <div class=\"colab-df-buttons\">\n",
              "\n",
              "  <div class=\"colab-df-container\">\n",
              "    <button class=\"colab-df-convert\" onclick=\"convertToInteractive('df-c8befdfb-69d4-4ff2-a4f8-70e327b3c9af')\"\n",
              "            title=\"Convert this dataframe to an interactive table.\"\n",
              "            style=\"display:none;\">\n",
              "\n",
              "  <svg xmlns=\"http://www.w3.org/2000/svg\" height=\"24px\" viewBox=\"0 -960 960 960\">\n",
              "    <path d=\"M120-120v-720h720v720H120Zm60-500h600v-160H180v160Zm220 220h160v-160H400v160Zm0 220h160v-160H400v160ZM180-400h160v-160H180v160Zm440 0h160v-160H620v160ZM180-180h160v-160H180v160Zm440 0h160v-160H620v160Z\"/>\n",
              "  </svg>\n",
              "    </button>\n",
              "\n",
              "  <style>\n",
              "    .colab-df-container {\n",
              "      display:flex;\n",
              "      gap: 12px;\n",
              "    }\n",
              "\n",
              "    .colab-df-convert {\n",
              "      background-color: #E8F0FE;\n",
              "      border: none;\n",
              "      border-radius: 50%;\n",
              "      cursor: pointer;\n",
              "      display: none;\n",
              "      fill: #1967D2;\n",
              "      height: 32px;\n",
              "      padding: 0 0 0 0;\n",
              "      width: 32px;\n",
              "    }\n",
              "\n",
              "    .colab-df-convert:hover {\n",
              "      background-color: #E2EBFA;\n",
              "      box-shadow: 0px 1px 2px rgba(60, 64, 67, 0.3), 0px 1px 3px 1px rgba(60, 64, 67, 0.15);\n",
              "      fill: #174EA6;\n",
              "    }\n",
              "\n",
              "    .colab-df-buttons div {\n",
              "      margin-bottom: 4px;\n",
              "    }\n",
              "\n",
              "    [theme=dark] .colab-df-convert {\n",
              "      background-color: #3B4455;\n",
              "      fill: #D2E3FC;\n",
              "    }\n",
              "\n",
              "    [theme=dark] .colab-df-convert:hover {\n",
              "      background-color: #434B5C;\n",
              "      box-shadow: 0px 1px 3px 1px rgba(0, 0, 0, 0.15);\n",
              "      filter: drop-shadow(0px 1px 2px rgba(0, 0, 0, 0.3));\n",
              "      fill: #FFFFFF;\n",
              "    }\n",
              "  </style>\n",
              "\n",
              "    <script>\n",
              "      const buttonEl =\n",
              "        document.querySelector('#df-c8befdfb-69d4-4ff2-a4f8-70e327b3c9af button.colab-df-convert');\n",
              "      buttonEl.style.display =\n",
              "        google.colab.kernel.accessAllowed ? 'block' : 'none';\n",
              "\n",
              "      async function convertToInteractive(key) {\n",
              "        const element = document.querySelector('#df-c8befdfb-69d4-4ff2-a4f8-70e327b3c9af');\n",
              "        const dataTable =\n",
              "          await google.colab.kernel.invokeFunction('convertToInteractive',\n",
              "                                                    [key], {});\n",
              "        if (!dataTable) return;\n",
              "\n",
              "        const docLinkHtml = 'Like what you see? Visit the ' +\n",
              "          '<a target=\"_blank\" href=https://colab.research.google.com/notebooks/data_table.ipynb>data table notebook</a>'\n",
              "          + ' to learn more about interactive tables.';\n",
              "        element.innerHTML = '';\n",
              "        dataTable['output_type'] = 'display_data';\n",
              "        await google.colab.output.renderOutput(dataTable, element);\n",
              "        const docLink = document.createElement('div');\n",
              "        docLink.innerHTML = docLinkHtml;\n",
              "        element.appendChild(docLink);\n",
              "      }\n",
              "    </script>\n",
              "  </div>\n",
              "\n",
              "\n",
              "    <div id=\"df-d9c46ec6-a18f-46a9-adf2-4c304dee4600\">\n",
              "      <button class=\"colab-df-quickchart\" onclick=\"quickchart('df-d9c46ec6-a18f-46a9-adf2-4c304dee4600')\"\n",
              "                title=\"Suggest charts\"\n",
              "                style=\"display:none;\">\n",
              "\n",
              "<svg xmlns=\"http://www.w3.org/2000/svg\" height=\"24px\"viewBox=\"0 0 24 24\"\n",
              "     width=\"24px\">\n",
              "    <g>\n",
              "        <path d=\"M19 3H5c-1.1 0-2 .9-2 2v14c0 1.1.9 2 2 2h14c1.1 0 2-.9 2-2V5c0-1.1-.9-2-2-2zM9 17H7v-7h2v7zm4 0h-2V7h2v10zm4 0h-2v-4h2v4z\"/>\n",
              "    </g>\n",
              "</svg>\n",
              "      </button>\n",
              "\n",
              "<style>\n",
              "  .colab-df-quickchart {\n",
              "      --bg-color: #E8F0FE;\n",
              "      --fill-color: #1967D2;\n",
              "      --hover-bg-color: #E2EBFA;\n",
              "      --hover-fill-color: #174EA6;\n",
              "      --disabled-fill-color: #AAA;\n",
              "      --disabled-bg-color: #DDD;\n",
              "  }\n",
              "\n",
              "  [theme=dark] .colab-df-quickchart {\n",
              "      --bg-color: #3B4455;\n",
              "      --fill-color: #D2E3FC;\n",
              "      --hover-bg-color: #434B5C;\n",
              "      --hover-fill-color: #FFFFFF;\n",
              "      --disabled-bg-color: #3B4455;\n",
              "      --disabled-fill-color: #666;\n",
              "  }\n",
              "\n",
              "  .colab-df-quickchart {\n",
              "    background-color: var(--bg-color);\n",
              "    border: none;\n",
              "    border-radius: 50%;\n",
              "    cursor: pointer;\n",
              "    display: none;\n",
              "    fill: var(--fill-color);\n",
              "    height: 32px;\n",
              "    padding: 0;\n",
              "    width: 32px;\n",
              "  }\n",
              "\n",
              "  .colab-df-quickchart:hover {\n",
              "    background-color: var(--hover-bg-color);\n",
              "    box-shadow: 0 1px 2px rgba(60, 64, 67, 0.3), 0 1px 3px 1px rgba(60, 64, 67, 0.15);\n",
              "    fill: var(--button-hover-fill-color);\n",
              "  }\n",
              "\n",
              "  .colab-df-quickchart-complete:disabled,\n",
              "  .colab-df-quickchart-complete:disabled:hover {\n",
              "    background-color: var(--disabled-bg-color);\n",
              "    fill: var(--disabled-fill-color);\n",
              "    box-shadow: none;\n",
              "  }\n",
              "\n",
              "  .colab-df-spinner {\n",
              "    border: 2px solid var(--fill-color);\n",
              "    border-color: transparent;\n",
              "    border-bottom-color: var(--fill-color);\n",
              "    animation:\n",
              "      spin 1s steps(1) infinite;\n",
              "  }\n",
              "\n",
              "  @keyframes spin {\n",
              "    0% {\n",
              "      border-color: transparent;\n",
              "      border-bottom-color: var(--fill-color);\n",
              "      border-left-color: var(--fill-color);\n",
              "    }\n",
              "    20% {\n",
              "      border-color: transparent;\n",
              "      border-left-color: var(--fill-color);\n",
              "      border-top-color: var(--fill-color);\n",
              "    }\n",
              "    30% {\n",
              "      border-color: transparent;\n",
              "      border-left-color: var(--fill-color);\n",
              "      border-top-color: var(--fill-color);\n",
              "      border-right-color: var(--fill-color);\n",
              "    }\n",
              "    40% {\n",
              "      border-color: transparent;\n",
              "      border-right-color: var(--fill-color);\n",
              "      border-top-color: var(--fill-color);\n",
              "    }\n",
              "    60% {\n",
              "      border-color: transparent;\n",
              "      border-right-color: var(--fill-color);\n",
              "    }\n",
              "    80% {\n",
              "      border-color: transparent;\n",
              "      border-right-color: var(--fill-color);\n",
              "      border-bottom-color: var(--fill-color);\n",
              "    }\n",
              "    90% {\n",
              "      border-color: transparent;\n",
              "      border-bottom-color: var(--fill-color);\n",
              "    }\n",
              "  }\n",
              "</style>\n",
              "\n",
              "      <script>\n",
              "        async function quickchart(key) {\n",
              "          const quickchartButtonEl =\n",
              "            document.querySelector('#' + key + ' button');\n",
              "          quickchartButtonEl.disabled = true;  // To prevent multiple clicks.\n",
              "          quickchartButtonEl.classList.add('colab-df-spinner');\n",
              "          try {\n",
              "            const charts = await google.colab.kernel.invokeFunction(\n",
              "                'suggestCharts', [key], {});\n",
              "          } catch (error) {\n",
              "            console.error('Error during call to suggestCharts:', error);\n",
              "          }\n",
              "          quickchartButtonEl.classList.remove('colab-df-spinner');\n",
              "          quickchartButtonEl.classList.add('colab-df-quickchart-complete');\n",
              "        }\n",
              "        (() => {\n",
              "          let quickchartButtonEl =\n",
              "            document.querySelector('#df-d9c46ec6-a18f-46a9-adf2-4c304dee4600 button');\n",
              "          quickchartButtonEl.style.display =\n",
              "            google.colab.kernel.accessAllowed ? 'block' : 'none';\n",
              "        })();\n",
              "      </script>\n",
              "    </div>\n",
              "\n",
              "    </div>\n",
              "  </div>\n"
            ],
            "application/vnd.google.colaboratory.intrinsic+json": {
              "type": "dataframe",
              "variable_name": "estado",
              "summary": "{\n  \"name\": \"estado\",\n  \"rows\": 27,\n  \"fields\": [\n    {\n      \"column\": \"Campe\\u00f3n\",\n      \"properties\": {\n        \"dtype\": \"category\",\n        \"num_unique_values\": 12,\n        \"samples\": [\n          \"Swain\",\n          \"Mel\",\n          \"Lulu\"\n        ],\n        \"semantic_type\": \"\",\n        \"description\": \"\"\n      }\n    },\n    {\n      \"column\": \"KDA\",\n      \"properties\": {\n        \"dtype\": \"number\",\n        \"std\": 6.2978087357266475,\n        \"min\": 0.0,\n        \"max\": 30.0,\n        \"num_unique_values\": 24,\n        \"samples\": [\n          1.0,\n          0.85,\n          10.0\n        ],\n        \"semantic_type\": \"\",\n        \"description\": \"\"\n      }\n    },\n    {\n      \"column\": \"Kills\",\n      \"properties\": {\n        \"dtype\": \"number\",\n        \"std\": 4,\n        \"min\": 0,\n        \"max\": 23,\n        \"num_unique_values\": 8,\n        \"samples\": [\n          1,\n          6,\n          0\n        ],\n        \"semantic_type\": \"\",\n        \"description\": \"\"\n      }\n    },\n    {\n      \"column\": \"Deaths\",\n      \"properties\": {\n        \"dtype\": \"number\",\n        \"std\": 2,\n        \"min\": 0,\n        \"max\": 13,\n        \"num_unique_values\": 10,\n        \"samples\": [\n          13,\n          1,\n          8\n        ],\n        \"semantic_type\": \"\",\n        \"description\": \"\"\n      }\n    },\n    {\n      \"column\": \"Assists\",\n      \"properties\": {\n        \"dtype\": \"number\",\n        \"std\": 7,\n        \"min\": 0,\n        \"max\": 28,\n        \"num_unique_values\": 20,\n        \"samples\": [\n          20,\n          3,\n          11\n        ],\n        \"semantic_type\": \"\",\n        \"description\": \"\"\n      }\n    },\n    {\n      \"column\": \"Kill Participa(%)\",\n      \"properties\": {\n        \"dtype\": \"number\",\n        \"std\": 18.718182881101743,\n        \"min\": 0.0,\n        \"max\": 82.0,\n        \"num_unique_values\": 21,\n        \"samples\": [\n          54.0,\n          63.0,\n          0.0\n        ],\n        \"semantic_type\": \"\",\n        \"description\": \"\"\n      }\n    },\n    {\n      \"column\": \"Wards Coloc\",\n      \"properties\": {\n        \"dtype\": \"number\",\n        \"std\": 10,\n        \"min\": 0,\n        \"max\": 45,\n        \"num_unique_values\": 17,\n        \"samples\": [\n          26,\n          17,\n          43\n        ],\n        \"semantic_type\": \"\",\n        \"description\": \"\"\n      }\n    },\n    {\n      \"column\": \"Control Wards\",\n      \"properties\": {\n        \"dtype\": \"number\",\n        \"std\": 2,\n        \"min\": 0,\n        \"max\": 11,\n        \"num_unique_values\": 9,\n        \"samples\": [\n          0,\n          6,\n          3\n        ],\n        \"semantic_type\": \"\",\n        \"description\": \"\"\n      }\n    },\n    {\n      \"column\": \"Wards Elimi\",\n      \"properties\": {\n        \"dtype\": \"number\",\n        \"std\": 4,\n        \"min\": 0,\n        \"max\": 19,\n        \"num_unique_values\": 17,\n        \"samples\": [\n          3,\n          2,\n          4\n        ],\n        \"semantic_type\": \"\",\n        \"description\": \"\"\n      }\n    },\n    {\n      \"column\": \"Wards por M\",\n      \"properties\": {\n        \"dtype\": \"number\",\n        \"std\": 0.23696085906415137,\n        \"min\": 0.0,\n        \"max\": 1.25,\n        \"num_unique_values\": 22,\n        \"samples\": [\n          0.896551724137931,\n          0.4545454545454545,\n          0.9642857142857144\n        ],\n        \"semantic_type\": \"\",\n        \"description\": \"\"\n      }\n    },\n    {\n      \"column\": \"Duraci\\u00f3n(minutos)\",\n      \"properties\": {\n        \"dtype\": \"number\",\n        \"std\": 9,\n        \"min\": 5,\n        \"max\": 51,\n        \"num_unique_values\": 16,\n        \"samples\": [\n          29,\n          22,\n          36\n        ],\n        \"semantic_type\": \"\",\n        \"description\": \"\"\n      }\n    },\n    {\n      \"column\": \"Da\\u00f1o Infligido\",\n      \"properties\": {\n        \"dtype\": \"number\",\n        \"std\": 13480,\n        \"min\": 382,\n        \"max\": 68049,\n        \"num_unique_values\": 27,\n        \"samples\": [\n          8695,\n          10202,\n          6346\n        ],\n        \"semantic_type\": \"\",\n        \"description\": \"\"\n      }\n    },\n    {\n      \"column\": \"Da\\u00f1o Recibido\",\n      \"properties\": {\n        \"dtype\": \"number\",\n        \"std\": 9423,\n        \"min\": 526,\n        \"max\": 39300,\n        \"num_unique_values\": 27,\n        \"samples\": [\n          20854,\n          22239,\n          13299\n        ],\n        \"semantic_type\": \"\",\n        \"description\": \"\"\n      }\n    },\n    {\n      \"column\": \"Total de Oro\",\n      \"properties\": {\n        \"dtype\": \"number\",\n        \"std\": 3500,\n        \"min\": 968,\n        \"max\": 20669,\n        \"num_unique_values\": 27,\n        \"samples\": [\n          7019,\n          8800,\n          8059\n        ],\n        \"semantic_type\": \"\",\n        \"description\": \"\"\n      }\n    },\n    {\n      \"column\": \"Posici\\u00f3n del\",\n      \"properties\": {\n        \"dtype\": \"category\",\n        \"num_unique_values\": 12,\n        \"samples\": [\n          \"3er Lugar\",\n          \"ACE\",\n          \"2do Mejor\"\n        ],\n        \"semantic_type\": \"\",\n        \"description\": \"\"\n      }\n    },\n    {\n      \"column\": \"Victoria\",\n      \"properties\": {\n        \"dtype\": \"number\",\n        \"std\": 0,\n        \"min\": 0,\n        \"max\": 1,\n        \"num_unique_values\": 2,\n        \"samples\": [\n          0,\n          1\n        ],\n        \"semantic_type\": \"\",\n        \"description\": \"\"\n      }\n    },\n    {\n      \"column\": \"Duo\",\n      \"properties\": {\n        \"dtype\": \"number\",\n        \"std\": 0,\n        \"min\": 0,\n        \"max\": 1,\n        \"num_unique_values\": 2,\n        \"samples\": [\n          1,\n          0\n        ],\n        \"semantic_type\": \"\",\n        \"description\": \"\"\n      }\n    },\n    {\n      \"column\": \"Oro por Minuto\",\n      \"properties\": {\n        \"dtype\": \"number\",\n        \"std\": 53.81920462629454,\n        \"min\": 193.6,\n        \"max\": 405.2745098039215,\n        \"num_unique_values\": 27,\n        \"samples\": [\n          250.6785714285714,\n          352.0\n        ],\n        \"semantic_type\": \"\",\n        \"description\": \"\"\n      }\n    }\n  ]\n}"
            }
          },
          "metadata": {},
          "execution_count": 39
        }
      ]
    },
    {
      "cell_type": "code",
      "source": [
        "estado.sample(10)\n"
      ],
      "metadata": {
        "id": "SFeHvrmlLGcb",
        "colab": {
          "base_uri": "https://localhost:8080/",
          "height": 398
        },
        "outputId": "267c3d1b-154d-414b-db0f-93cb8c0fc0ce"
      },
      "execution_count": 40,
      "outputs": [
        {
          "output_type": "execute_result",
          "data": {
            "text/plain": [
              "   Campeón    KDA  Kills  Deaths  Assists  Kill Participa(%)  Wards Coloc  \\\n",
              "15    Lulu   1.71      2       7       10               57.0           38   \n",
              "7     Nami  30.00      2       1       28               79.0           32   \n",
              "1     Lulu  15.00      1       1       14               60.0           17   \n",
              "0     Lulu  10.00      0       2       20               54.0           26   \n",
              "22   Swain  12.50      6       2       19               63.0           31   \n",
              "17   Amumu   0.33      0       3        1               13.0            5   \n",
              "6     Nami   4.20      4       5       17               60.0           43   \n",
              "4     Lulu   3.25      0       4       13               72.0           23   \n",
              "13   Leona   3.67      0       6       22               58.0           25   \n",
              "2     Lulu   5.00      1       5       24               68.0           23   \n",
              "\n",
              "    Control Wards  Wards Elimi  Wards por M  Duración(minutos)  \\\n",
              "15              7           12     1.117647                 34   \n",
              "7               9            4     1.142857                 28   \n",
              "1               5            2     0.772727                 22   \n",
              "0               5            3     0.896552                 29   \n",
              "22              6            6     0.968750                 32   \n",
              "17              3            1     0.454545                 11   \n",
              "6               6           11     0.860000                 50   \n",
              "4               5            2     1.000000                 23   \n",
              "13              6            2     1.000000                 25   \n",
              "2               6            5     0.884615                 26   \n",
              "\n",
              "    Daño Infligido  Daño Recibido  Total de Oro Posición del  Victoria  Duo  \\\n",
              "15            6797          17072          8779    8vo Lugar         0    0   \n",
              "7            13314           6850          9193    3er Mejor         1    0   \n",
              "1             4558           6650          6780    3er Mejor         1    1   \n",
              "0             5418          16028          9152    2do Mejor         1    0   \n",
              "22           23722          28517         10544    2do Lugar         1    1   \n",
              "17            1398           4486          2325   10mo Lugar         1    0   \n",
              "6            22103          39300         12417    5to Lugar         0    0   \n",
              "4             3859          11294          6034    2do Mejor         1    1   \n",
              "13           10202          22239          8800    2do Lugar         1    1   \n",
              "2             6683          15600          8771    2do Mejor         1    1   \n",
              "\n",
              "    Oro por Minuto  \n",
              "15      258.205882  \n",
              "7       328.321429  \n",
              "1       308.181818  \n",
              "0       315.586207  \n",
              "22      329.500000  \n",
              "17      211.363636  \n",
              "6       248.340000  \n",
              "4       262.347826  \n",
              "13      352.000000  \n",
              "2       337.346154  "
            ],
            "text/html": [
              "\n",
              "  <div id=\"df-722518af-7718-4607-94f8-1bee49b5eb88\" class=\"colab-df-container\">\n",
              "    <div>\n",
              "<style scoped>\n",
              "    .dataframe tbody tr th:only-of-type {\n",
              "        vertical-align: middle;\n",
              "    }\n",
              "\n",
              "    .dataframe tbody tr th {\n",
              "        vertical-align: top;\n",
              "    }\n",
              "\n",
              "    .dataframe thead th {\n",
              "        text-align: right;\n",
              "    }\n",
              "</style>\n",
              "<table border=\"1\" class=\"dataframe\">\n",
              "  <thead>\n",
              "    <tr style=\"text-align: right;\">\n",
              "      <th></th>\n",
              "      <th>Campeón</th>\n",
              "      <th>KDA</th>\n",
              "      <th>Kills</th>\n",
              "      <th>Deaths</th>\n",
              "      <th>Assists</th>\n",
              "      <th>Kill Participa(%)</th>\n",
              "      <th>Wards Coloc</th>\n",
              "      <th>Control Wards</th>\n",
              "      <th>Wards Elimi</th>\n",
              "      <th>Wards por M</th>\n",
              "      <th>Duración(minutos)</th>\n",
              "      <th>Daño Infligido</th>\n",
              "      <th>Daño Recibido</th>\n",
              "      <th>Total de Oro</th>\n",
              "      <th>Posición del</th>\n",
              "      <th>Victoria</th>\n",
              "      <th>Duo</th>\n",
              "      <th>Oro por Minuto</th>\n",
              "    </tr>\n",
              "  </thead>\n",
              "  <tbody>\n",
              "    <tr>\n",
              "      <th>15</th>\n",
              "      <td>Lulu</td>\n",
              "      <td>1.71</td>\n",
              "      <td>2</td>\n",
              "      <td>7</td>\n",
              "      <td>10</td>\n",
              "      <td>57.0</td>\n",
              "      <td>38</td>\n",
              "      <td>7</td>\n",
              "      <td>12</td>\n",
              "      <td>1.117647</td>\n",
              "      <td>34</td>\n",
              "      <td>6797</td>\n",
              "      <td>17072</td>\n",
              "      <td>8779</td>\n",
              "      <td>8vo Lugar</td>\n",
              "      <td>0</td>\n",
              "      <td>0</td>\n",
              "      <td>258.205882</td>\n",
              "    </tr>\n",
              "    <tr>\n",
              "      <th>7</th>\n",
              "      <td>Nami</td>\n",
              "      <td>30.00</td>\n",
              "      <td>2</td>\n",
              "      <td>1</td>\n",
              "      <td>28</td>\n",
              "      <td>79.0</td>\n",
              "      <td>32</td>\n",
              "      <td>9</td>\n",
              "      <td>4</td>\n",
              "      <td>1.142857</td>\n",
              "      <td>28</td>\n",
              "      <td>13314</td>\n",
              "      <td>6850</td>\n",
              "      <td>9193</td>\n",
              "      <td>3er Mejor</td>\n",
              "      <td>1</td>\n",
              "      <td>0</td>\n",
              "      <td>328.321429</td>\n",
              "    </tr>\n",
              "    <tr>\n",
              "      <th>1</th>\n",
              "      <td>Lulu</td>\n",
              "      <td>15.00</td>\n",
              "      <td>1</td>\n",
              "      <td>1</td>\n",
              "      <td>14</td>\n",
              "      <td>60.0</td>\n",
              "      <td>17</td>\n",
              "      <td>5</td>\n",
              "      <td>2</td>\n",
              "      <td>0.772727</td>\n",
              "      <td>22</td>\n",
              "      <td>4558</td>\n",
              "      <td>6650</td>\n",
              "      <td>6780</td>\n",
              "      <td>3er Mejor</td>\n",
              "      <td>1</td>\n",
              "      <td>1</td>\n",
              "      <td>308.181818</td>\n",
              "    </tr>\n",
              "    <tr>\n",
              "      <th>0</th>\n",
              "      <td>Lulu</td>\n",
              "      <td>10.00</td>\n",
              "      <td>0</td>\n",
              "      <td>2</td>\n",
              "      <td>20</td>\n",
              "      <td>54.0</td>\n",
              "      <td>26</td>\n",
              "      <td>5</td>\n",
              "      <td>3</td>\n",
              "      <td>0.896552</td>\n",
              "      <td>29</td>\n",
              "      <td>5418</td>\n",
              "      <td>16028</td>\n",
              "      <td>9152</td>\n",
              "      <td>2do Mejor</td>\n",
              "      <td>1</td>\n",
              "      <td>0</td>\n",
              "      <td>315.586207</td>\n",
              "    </tr>\n",
              "    <tr>\n",
              "      <th>22</th>\n",
              "      <td>Swain</td>\n",
              "      <td>12.50</td>\n",
              "      <td>6</td>\n",
              "      <td>2</td>\n",
              "      <td>19</td>\n",
              "      <td>63.0</td>\n",
              "      <td>31</td>\n",
              "      <td>6</td>\n",
              "      <td>6</td>\n",
              "      <td>0.968750</td>\n",
              "      <td>32</td>\n",
              "      <td>23722</td>\n",
              "      <td>28517</td>\n",
              "      <td>10544</td>\n",
              "      <td>2do Lugar</td>\n",
              "      <td>1</td>\n",
              "      <td>1</td>\n",
              "      <td>329.500000</td>\n",
              "    </tr>\n",
              "    <tr>\n",
              "      <th>17</th>\n",
              "      <td>Amumu</td>\n",
              "      <td>0.33</td>\n",
              "      <td>0</td>\n",
              "      <td>3</td>\n",
              "      <td>1</td>\n",
              "      <td>13.0</td>\n",
              "      <td>5</td>\n",
              "      <td>3</td>\n",
              "      <td>1</td>\n",
              "      <td>0.454545</td>\n",
              "      <td>11</td>\n",
              "      <td>1398</td>\n",
              "      <td>4486</td>\n",
              "      <td>2325</td>\n",
              "      <td>10mo Lugar</td>\n",
              "      <td>1</td>\n",
              "      <td>0</td>\n",
              "      <td>211.363636</td>\n",
              "    </tr>\n",
              "    <tr>\n",
              "      <th>6</th>\n",
              "      <td>Nami</td>\n",
              "      <td>4.20</td>\n",
              "      <td>4</td>\n",
              "      <td>5</td>\n",
              "      <td>17</td>\n",
              "      <td>60.0</td>\n",
              "      <td>43</td>\n",
              "      <td>6</td>\n",
              "      <td>11</td>\n",
              "      <td>0.860000</td>\n",
              "      <td>50</td>\n",
              "      <td>22103</td>\n",
              "      <td>39300</td>\n",
              "      <td>12417</td>\n",
              "      <td>5to Lugar</td>\n",
              "      <td>0</td>\n",
              "      <td>0</td>\n",
              "      <td>248.340000</td>\n",
              "    </tr>\n",
              "    <tr>\n",
              "      <th>4</th>\n",
              "      <td>Lulu</td>\n",
              "      <td>3.25</td>\n",
              "      <td>0</td>\n",
              "      <td>4</td>\n",
              "      <td>13</td>\n",
              "      <td>72.0</td>\n",
              "      <td>23</td>\n",
              "      <td>5</td>\n",
              "      <td>2</td>\n",
              "      <td>1.000000</td>\n",
              "      <td>23</td>\n",
              "      <td>3859</td>\n",
              "      <td>11294</td>\n",
              "      <td>6034</td>\n",
              "      <td>2do Mejor</td>\n",
              "      <td>1</td>\n",
              "      <td>1</td>\n",
              "      <td>262.347826</td>\n",
              "    </tr>\n",
              "    <tr>\n",
              "      <th>13</th>\n",
              "      <td>Leona</td>\n",
              "      <td>3.67</td>\n",
              "      <td>0</td>\n",
              "      <td>6</td>\n",
              "      <td>22</td>\n",
              "      <td>58.0</td>\n",
              "      <td>25</td>\n",
              "      <td>6</td>\n",
              "      <td>2</td>\n",
              "      <td>1.000000</td>\n",
              "      <td>25</td>\n",
              "      <td>10202</td>\n",
              "      <td>22239</td>\n",
              "      <td>8800</td>\n",
              "      <td>2do Lugar</td>\n",
              "      <td>1</td>\n",
              "      <td>1</td>\n",
              "      <td>352.000000</td>\n",
              "    </tr>\n",
              "    <tr>\n",
              "      <th>2</th>\n",
              "      <td>Lulu</td>\n",
              "      <td>5.00</td>\n",
              "      <td>1</td>\n",
              "      <td>5</td>\n",
              "      <td>24</td>\n",
              "      <td>68.0</td>\n",
              "      <td>23</td>\n",
              "      <td>6</td>\n",
              "      <td>5</td>\n",
              "      <td>0.884615</td>\n",
              "      <td>26</td>\n",
              "      <td>6683</td>\n",
              "      <td>15600</td>\n",
              "      <td>8771</td>\n",
              "      <td>2do Mejor</td>\n",
              "      <td>1</td>\n",
              "      <td>1</td>\n",
              "      <td>337.346154</td>\n",
              "    </tr>\n",
              "  </tbody>\n",
              "</table>\n",
              "</div>\n",
              "    <div class=\"colab-df-buttons\">\n",
              "\n",
              "  <div class=\"colab-df-container\">\n",
              "    <button class=\"colab-df-convert\" onclick=\"convertToInteractive('df-722518af-7718-4607-94f8-1bee49b5eb88')\"\n",
              "            title=\"Convert this dataframe to an interactive table.\"\n",
              "            style=\"display:none;\">\n",
              "\n",
              "  <svg xmlns=\"http://www.w3.org/2000/svg\" height=\"24px\" viewBox=\"0 -960 960 960\">\n",
              "    <path d=\"M120-120v-720h720v720H120Zm60-500h600v-160H180v160Zm220 220h160v-160H400v160Zm0 220h160v-160H400v160ZM180-400h160v-160H180v160Zm440 0h160v-160H620v160ZM180-180h160v-160H180v160Zm440 0h160v-160H620v160Z\"/>\n",
              "  </svg>\n",
              "    </button>\n",
              "\n",
              "  <style>\n",
              "    .colab-df-container {\n",
              "      display:flex;\n",
              "      gap: 12px;\n",
              "    }\n",
              "\n",
              "    .colab-df-convert {\n",
              "      background-color: #E8F0FE;\n",
              "      border: none;\n",
              "      border-radius: 50%;\n",
              "      cursor: pointer;\n",
              "      display: none;\n",
              "      fill: #1967D2;\n",
              "      height: 32px;\n",
              "      padding: 0 0 0 0;\n",
              "      width: 32px;\n",
              "    }\n",
              "\n",
              "    .colab-df-convert:hover {\n",
              "      background-color: #E2EBFA;\n",
              "      box-shadow: 0px 1px 2px rgba(60, 64, 67, 0.3), 0px 1px 3px 1px rgba(60, 64, 67, 0.15);\n",
              "      fill: #174EA6;\n",
              "    }\n",
              "\n",
              "    .colab-df-buttons div {\n",
              "      margin-bottom: 4px;\n",
              "    }\n",
              "\n",
              "    [theme=dark] .colab-df-convert {\n",
              "      background-color: #3B4455;\n",
              "      fill: #D2E3FC;\n",
              "    }\n",
              "\n",
              "    [theme=dark] .colab-df-convert:hover {\n",
              "      background-color: #434B5C;\n",
              "      box-shadow: 0px 1px 3px 1px rgba(0, 0, 0, 0.15);\n",
              "      filter: drop-shadow(0px 1px 2px rgba(0, 0, 0, 0.3));\n",
              "      fill: #FFFFFF;\n",
              "    }\n",
              "  </style>\n",
              "\n",
              "    <script>\n",
              "      const buttonEl =\n",
              "        document.querySelector('#df-722518af-7718-4607-94f8-1bee49b5eb88 button.colab-df-convert');\n",
              "      buttonEl.style.display =\n",
              "        google.colab.kernel.accessAllowed ? 'block' : 'none';\n",
              "\n",
              "      async function convertToInteractive(key) {\n",
              "        const element = document.querySelector('#df-722518af-7718-4607-94f8-1bee49b5eb88');\n",
              "        const dataTable =\n",
              "          await google.colab.kernel.invokeFunction('convertToInteractive',\n",
              "                                                    [key], {});\n",
              "        if (!dataTable) return;\n",
              "\n",
              "        const docLinkHtml = 'Like what you see? Visit the ' +\n",
              "          '<a target=\"_blank\" href=https://colab.research.google.com/notebooks/data_table.ipynb>data table notebook</a>'\n",
              "          + ' to learn more about interactive tables.';\n",
              "        element.innerHTML = '';\n",
              "        dataTable['output_type'] = 'display_data';\n",
              "        await google.colab.output.renderOutput(dataTable, element);\n",
              "        const docLink = document.createElement('div');\n",
              "        docLink.innerHTML = docLinkHtml;\n",
              "        element.appendChild(docLink);\n",
              "      }\n",
              "    </script>\n",
              "  </div>\n",
              "\n",
              "\n",
              "    <div id=\"df-f1525acf-3c88-4521-9b65-4ad42562ab21\">\n",
              "      <button class=\"colab-df-quickchart\" onclick=\"quickchart('df-f1525acf-3c88-4521-9b65-4ad42562ab21')\"\n",
              "                title=\"Suggest charts\"\n",
              "                style=\"display:none;\">\n",
              "\n",
              "<svg xmlns=\"http://www.w3.org/2000/svg\" height=\"24px\"viewBox=\"0 0 24 24\"\n",
              "     width=\"24px\">\n",
              "    <g>\n",
              "        <path d=\"M19 3H5c-1.1 0-2 .9-2 2v14c0 1.1.9 2 2 2h14c1.1 0 2-.9 2-2V5c0-1.1-.9-2-2-2zM9 17H7v-7h2v7zm4 0h-2V7h2v10zm4 0h-2v-4h2v4z\"/>\n",
              "    </g>\n",
              "</svg>\n",
              "      </button>\n",
              "\n",
              "<style>\n",
              "  .colab-df-quickchart {\n",
              "      --bg-color: #E8F0FE;\n",
              "      --fill-color: #1967D2;\n",
              "      --hover-bg-color: #E2EBFA;\n",
              "      --hover-fill-color: #174EA6;\n",
              "      --disabled-fill-color: #AAA;\n",
              "      --disabled-bg-color: #DDD;\n",
              "  }\n",
              "\n",
              "  [theme=dark] .colab-df-quickchart {\n",
              "      --bg-color: #3B4455;\n",
              "      --fill-color: #D2E3FC;\n",
              "      --hover-bg-color: #434B5C;\n",
              "      --hover-fill-color: #FFFFFF;\n",
              "      --disabled-bg-color: #3B4455;\n",
              "      --disabled-fill-color: #666;\n",
              "  }\n",
              "\n",
              "  .colab-df-quickchart {\n",
              "    background-color: var(--bg-color);\n",
              "    border: none;\n",
              "    border-radius: 50%;\n",
              "    cursor: pointer;\n",
              "    display: none;\n",
              "    fill: var(--fill-color);\n",
              "    height: 32px;\n",
              "    padding: 0;\n",
              "    width: 32px;\n",
              "  }\n",
              "\n",
              "  .colab-df-quickchart:hover {\n",
              "    background-color: var(--hover-bg-color);\n",
              "    box-shadow: 0 1px 2px rgba(60, 64, 67, 0.3), 0 1px 3px 1px rgba(60, 64, 67, 0.15);\n",
              "    fill: var(--button-hover-fill-color);\n",
              "  }\n",
              "\n",
              "  .colab-df-quickchart-complete:disabled,\n",
              "  .colab-df-quickchart-complete:disabled:hover {\n",
              "    background-color: var(--disabled-bg-color);\n",
              "    fill: var(--disabled-fill-color);\n",
              "    box-shadow: none;\n",
              "  }\n",
              "\n",
              "  .colab-df-spinner {\n",
              "    border: 2px solid var(--fill-color);\n",
              "    border-color: transparent;\n",
              "    border-bottom-color: var(--fill-color);\n",
              "    animation:\n",
              "      spin 1s steps(1) infinite;\n",
              "  }\n",
              "\n",
              "  @keyframes spin {\n",
              "    0% {\n",
              "      border-color: transparent;\n",
              "      border-bottom-color: var(--fill-color);\n",
              "      border-left-color: var(--fill-color);\n",
              "    }\n",
              "    20% {\n",
              "      border-color: transparent;\n",
              "      border-left-color: var(--fill-color);\n",
              "      border-top-color: var(--fill-color);\n",
              "    }\n",
              "    30% {\n",
              "      border-color: transparent;\n",
              "      border-left-color: var(--fill-color);\n",
              "      border-top-color: var(--fill-color);\n",
              "      border-right-color: var(--fill-color);\n",
              "    }\n",
              "    40% {\n",
              "      border-color: transparent;\n",
              "      border-right-color: var(--fill-color);\n",
              "      border-top-color: var(--fill-color);\n",
              "    }\n",
              "    60% {\n",
              "      border-color: transparent;\n",
              "      border-right-color: var(--fill-color);\n",
              "    }\n",
              "    80% {\n",
              "      border-color: transparent;\n",
              "      border-right-color: var(--fill-color);\n",
              "      border-bottom-color: var(--fill-color);\n",
              "    }\n",
              "    90% {\n",
              "      border-color: transparent;\n",
              "      border-bottom-color: var(--fill-color);\n",
              "    }\n",
              "  }\n",
              "</style>\n",
              "\n",
              "      <script>\n",
              "        async function quickchart(key) {\n",
              "          const quickchartButtonEl =\n",
              "            document.querySelector('#' + key + ' button');\n",
              "          quickchartButtonEl.disabled = true;  // To prevent multiple clicks.\n",
              "          quickchartButtonEl.classList.add('colab-df-spinner');\n",
              "          try {\n",
              "            const charts = await google.colab.kernel.invokeFunction(\n",
              "                'suggestCharts', [key], {});\n",
              "          } catch (error) {\n",
              "            console.error('Error during call to suggestCharts:', error);\n",
              "          }\n",
              "          quickchartButtonEl.classList.remove('colab-df-spinner');\n",
              "          quickchartButtonEl.classList.add('colab-df-quickchart-complete');\n",
              "        }\n",
              "        (() => {\n",
              "          let quickchartButtonEl =\n",
              "            document.querySelector('#df-f1525acf-3c88-4521-9b65-4ad42562ab21 button');\n",
              "          quickchartButtonEl.style.display =\n",
              "            google.colab.kernel.accessAllowed ? 'block' : 'none';\n",
              "        })();\n",
              "      </script>\n",
              "    </div>\n",
              "\n",
              "    </div>\n",
              "  </div>\n"
            ],
            "application/vnd.google.colaboratory.intrinsic+json": {
              "type": "dataframe",
              "summary": "{\n  \"name\": \"estado\",\n  \"rows\": 10,\n  \"fields\": [\n    {\n      \"column\": \"Campe\\u00f3n\",\n      \"properties\": {\n        \"dtype\": \"string\",\n        \"num_unique_values\": 5,\n        \"samples\": [\n          \"Nami\",\n          \"Leona\",\n          \"Swain\"\n        ],\n        \"semantic_type\": \"\",\n        \"description\": \"\"\n      }\n    },\n    {\n      \"column\": \"KDA\",\n      \"properties\": {\n        \"dtype\": \"number\",\n        \"std\": 8.926806322034276,\n        \"min\": 0.33,\n        \"max\": 30.0,\n        \"num_unique_values\": 10,\n        \"samples\": [\n          3.67,\n          30.0,\n          0.33\n        ],\n        \"semantic_type\": \"\",\n        \"description\": \"\"\n      }\n    },\n    {\n      \"column\": \"Kills\",\n      \"properties\": {\n        \"dtype\": \"number\",\n        \"std\": 2,\n        \"min\": 0,\n        \"max\": 6,\n        \"num_unique_values\": 5,\n        \"samples\": [\n          1,\n          4,\n          0\n        ],\n        \"semantic_type\": \"\",\n        \"description\": \"\"\n      }\n    },\n    {\n      \"column\": \"Deaths\",\n      \"properties\": {\n        \"dtype\": \"number\",\n        \"std\": 2,\n        \"min\": 1,\n        \"max\": 7,\n        \"num_unique_values\": 7,\n        \"samples\": [\n          7,\n          1,\n          4\n        ],\n        \"semantic_type\": \"\",\n        \"description\": \"\"\n      }\n    },\n    {\n      \"column\": \"Assists\",\n      \"properties\": {\n        \"dtype\": \"number\",\n        \"std\": 7,\n        \"min\": 1,\n        \"max\": 28,\n        \"num_unique_values\": 10,\n        \"samples\": [\n          22,\n          28,\n          1\n        ],\n        \"semantic_type\": \"\",\n        \"description\": \"\"\n      }\n    },\n    {\n      \"column\": \"Kill Participa(%)\",\n      \"properties\": {\n        \"dtype\": \"number\",\n        \"std\": 17.671068633975327,\n        \"min\": 13.0,\n        \"max\": 79.0,\n        \"num_unique_values\": 9,\n        \"samples\": [\n          57.99999999999999,\n          79.0,\n          13.0\n        ],\n        \"semantic_type\": \"\",\n        \"description\": \"\"\n      }\n    },\n    {\n      \"column\": \"Wards Coloc\",\n      \"properties\": {\n        \"dtype\": \"number\",\n        \"std\": 10,\n        \"min\": 5,\n        \"max\": 43,\n        \"num_unique_values\": 9,\n        \"samples\": [\n          23,\n          32,\n          5\n        ],\n        \"semantic_type\": \"\",\n        \"description\": \"\"\n      }\n    },\n    {\n      \"column\": \"Control Wards\",\n      \"properties\": {\n        \"dtype\": \"number\",\n        \"std\": 1,\n        \"min\": 3,\n        \"max\": 9,\n        \"num_unique_values\": 5,\n        \"samples\": [\n          9,\n          3,\n          5\n        ],\n        \"semantic_type\": \"\",\n        \"description\": \"\"\n      }\n    },\n    {\n      \"column\": \"Wards Elimi\",\n      \"properties\": {\n        \"dtype\": \"number\",\n        \"std\": 3,\n        \"min\": 1,\n        \"max\": 12,\n        \"num_unique_values\": 8,\n        \"samples\": [\n          4,\n          1,\n          12\n        ],\n        \"semantic_type\": \"\",\n        \"description\": \"\"\n      }\n    },\n    {\n      \"column\": \"Wards por M\",\n      \"properties\": {\n        \"dtype\": \"number\",\n        \"std\": 0.19624210110683596,\n        \"min\": 0.4545454545454545,\n        \"max\": 1.142857142857143,\n        \"num_unique_values\": 9,\n        \"samples\": [\n          1.0,\n          1.142857142857143,\n          0.4545454545454545\n        ],\n        \"semantic_type\": \"\",\n        \"description\": \"\"\n      }\n    },\n    {\n      \"column\": \"Duraci\\u00f3n(minutos)\",\n      \"properties\": {\n        \"dtype\": \"number\",\n        \"std\": 10,\n        \"min\": 11,\n        \"max\": 50,\n        \"num_unique_values\": 10,\n        \"samples\": [\n          25,\n          28,\n          11\n        ],\n        \"semantic_type\": \"\",\n        \"description\": \"\"\n      }\n    },\n    {\n      \"column\": \"Da\\u00f1o Infligido\",\n      \"properties\": {\n        \"dtype\": \"number\",\n        \"std\": 7666,\n        \"min\": 1398,\n        \"max\": 23722,\n        \"num_unique_values\": 10,\n        \"samples\": [\n          10202,\n          13314,\n          1398\n        ],\n        \"semantic_type\": \"\",\n        \"description\": \"\"\n      }\n    },\n    {\n      \"column\": \"Da\\u00f1o Recibido\",\n      \"properties\": {\n        \"dtype\": \"number\",\n        \"std\": 10848,\n        \"min\": 4486,\n        \"max\": 39300,\n        \"num_unique_values\": 10,\n        \"samples\": [\n          22239,\n          6850,\n          4486\n        ],\n        \"semantic_type\": \"\",\n        \"description\": \"\"\n      }\n    },\n    {\n      \"column\": \"Total de Oro\",\n      \"properties\": {\n        \"dtype\": \"number\",\n        \"std\": 2735,\n        \"min\": 2325,\n        \"max\": 12417,\n        \"num_unique_values\": 10,\n        \"samples\": [\n          8800,\n          9193,\n          2325\n        ],\n        \"semantic_type\": \"\",\n        \"description\": \"\"\n      }\n    },\n    {\n      \"column\": \"Posici\\u00f3n del\",\n      \"properties\": {\n        \"dtype\": \"string\",\n        \"num_unique_values\": 6,\n        \"samples\": [\n          \"8vo Lugar\",\n          \"3er Mejor\",\n          \"5to Lugar\"\n        ],\n        \"semantic_type\": \"\",\n        \"description\": \"\"\n      }\n    },\n    {\n      \"column\": \"Victoria\",\n      \"properties\": {\n        \"dtype\": \"number\",\n        \"std\": 0,\n        \"min\": 0,\n        \"max\": 1,\n        \"num_unique_values\": 2,\n        \"samples\": [\n          1,\n          0\n        ],\n        \"semantic_type\": \"\",\n        \"description\": \"\"\n      }\n    },\n    {\n      \"column\": \"Duo\",\n      \"properties\": {\n        \"dtype\": \"number\",\n        \"std\": 0,\n        \"min\": 0,\n        \"max\": 1,\n        \"num_unique_values\": 2,\n        \"samples\": [\n          1,\n          0\n        ],\n        \"semantic_type\": \"\",\n        \"description\": \"\"\n      }\n    },\n    {\n      \"column\": \"Oro por Minuto\",\n      \"properties\": {\n        \"dtype\": \"number\",\n        \"std\": 46.586052700635506,\n        \"min\": 211.3636363636364,\n        \"max\": 352.0,\n        \"num_unique_values\": 10,\n        \"samples\": [\n          352.0,\n          328.3214285714286\n        ],\n        \"semantic_type\": \"\",\n        \"description\": \"\"\n      }\n    }\n  ]\n}"
            }
          },
          "metadata": {},
          "execution_count": 40
        }
      ]
    },
    {
      "cell_type": "code",
      "source": [
        "estado.columns"
      ],
      "metadata": {
        "id": "9r6_-ZvHLNZw",
        "colab": {
          "base_uri": "https://localhost:8080/"
        },
        "outputId": "6461f341-cd06-4959-d6a6-4853052de98c"
      },
      "execution_count": 41,
      "outputs": [
        {
          "output_type": "execute_result",
          "data": {
            "text/plain": [
              "Index(['Campeón', 'KDA', 'Kills', 'Deaths', 'Assists', 'Kill Participa(%)',\n",
              "       'Wards Coloc', 'Control Wards', 'Wards Elimi', 'Wards por M',\n",
              "       'Duración(minutos)', 'Daño Infligido', 'Daño Recibido', 'Total de Oro',\n",
              "       'Posición del', 'Victoria', 'Duo', 'Oro por Minuto'],\n",
              "      dtype='object')"
            ]
          },
          "metadata": {},
          "execution_count": 41
        }
      ]
    },
    {
      "cell_type": "code",
      "source": [
        "estado.info()\n"
      ],
      "metadata": {
        "id": "l-bOvZzQLSiF",
        "colab": {
          "base_uri": "https://localhost:8080/"
        },
        "outputId": "87a30bc4-a78b-490e-f7c8-fe321684a462"
      },
      "execution_count": 42,
      "outputs": [
        {
          "output_type": "stream",
          "name": "stdout",
          "text": [
            "<class 'pandas.core.frame.DataFrame'>\n",
            "RangeIndex: 27 entries, 0 to 26\n",
            "Data columns (total 18 columns):\n",
            " #   Column             Non-Null Count  Dtype  \n",
            "---  ------             --------------  -----  \n",
            " 0   Campeón            27 non-null     object \n",
            " 1   KDA                27 non-null     float64\n",
            " 2   Kills              27 non-null     int64  \n",
            " 3   Deaths             27 non-null     int64  \n",
            " 4   Assists            27 non-null     int64  \n",
            " 5   Kill Participa(%)  27 non-null     float64\n",
            " 6   Wards Coloc        27 non-null     int64  \n",
            " 7   Control Wards      27 non-null     int64  \n",
            " 8   Wards Elimi        27 non-null     int64  \n",
            " 9   Wards por M        27 non-null     float64\n",
            " 10  Duración(minutos)  27 non-null     int64  \n",
            " 11  Daño Infligido     27 non-null     int64  \n",
            " 12  Daño Recibido      27 non-null     int64  \n",
            " 13  Total de Oro       27 non-null     int64  \n",
            " 14  Posición del       27 non-null     object \n",
            " 15  Victoria           27 non-null     int64  \n",
            " 16  Duo                27 non-null     int64  \n",
            " 17  Oro por Minuto     27 non-null     float64\n",
            "dtypes: float64(4), int64(12), object(2)\n",
            "memory usage: 3.9+ KB\n"
          ]
        }
      ]
    },
    {
      "cell_type": "code",
      "source": [
        "estado.describe()"
      ],
      "metadata": {
        "id": "ABl2vRb6LW6k",
        "colab": {
          "base_uri": "https://localhost:8080/",
          "height": 338
        },
        "outputId": "5018a63e-33eb-4db0-9fea-f4f854d65eda"
      },
      "execution_count": 43,
      "outputs": [
        {
          "output_type": "execute_result",
          "data": {
            "text/plain": [
              "             KDA      Kills     Deaths    Assists  Kill Participa(%)  \\\n",
              "count  27.000000  27.000000  27.000000  27.000000          27.000000   \n",
              "mean    5.617778   3.148148   4.777778  14.444444          54.296296   \n",
              "std     6.297809   4.873032   2.900044   7.772404          18.718183   \n",
              "min     0.000000   0.000000   0.000000   0.000000           0.000000   \n",
              "25%     1.690000   0.000000   2.500000   9.500000          49.500000   \n",
              "50%     4.200000   2.000000   5.000000  14.000000          58.000000   \n",
              "75%     6.000000   4.000000   7.000000  21.500000          63.000000   \n",
              "max    30.000000  23.000000  13.000000  28.000000          82.000000   \n",
              "\n",
              "       Wards Coloc  Control Wards  Wards Elimi  Wards por M  \\\n",
              "count    27.000000      27.000000    27.000000    27.000000   \n",
              "mean     29.185185       6.259259     6.851852     0.924861   \n",
              "std      10.759743       2.379279     4.904501     0.236961   \n",
              "min       0.000000       0.000000     0.000000     0.000000   \n",
              "25%      24.500000       5.000000     3.000000     0.883484   \n",
              "50%      31.000000       6.000000     6.000000     0.968750   \n",
              "75%      34.000000       7.500000    10.500000     1.031250   \n",
              "max      45.000000      11.000000    19.000000     1.250000   \n",
              "\n",
              "       Duración(minutos)  Daño Infligido  Daño Recibido  Total de Oro  \\\n",
              "count          27.000000       27.000000      27.000000     27.000000   \n",
              "mean           30.111111    13203.888889   19725.888889   8921.111111   \n",
              "std             9.471956    13480.307787    9423.097345   3500.372006   \n",
              "min             5.000000      382.000000     526.000000    968.000000   \n",
              "25%            27.000000     6740.000000   13670.000000   7332.000000   \n",
              "50%            30.000000    10202.000000   20854.000000   8800.000000   \n",
              "75%            34.000000    12990.500000   26732.500000   9980.000000   \n",
              "max            51.000000    68049.000000   39300.000000  20669.000000   \n",
              "\n",
              "        Victoria        Duo  Oro por Minuto  \n",
              "count  27.000000  27.000000       27.000000  \n",
              "mean    0.555556   0.592593      291.017193  \n",
              "std     0.506370   0.500712       53.819205  \n",
              "min     0.000000   0.000000      193.600000  \n",
              "25%     0.000000   0.000000      250.970238  \n",
              "50%     1.000000   1.000000      287.821429  \n",
              "75%     1.000000   1.000000      321.953818  \n",
              "max     1.000000   1.000000      405.274510  "
            ],
            "text/html": [
              "\n",
              "  <div id=\"df-5e1bb455-d393-4571-82c2-88ae04ad0842\" class=\"colab-df-container\">\n",
              "    <div>\n",
              "<style scoped>\n",
              "    .dataframe tbody tr th:only-of-type {\n",
              "        vertical-align: middle;\n",
              "    }\n",
              "\n",
              "    .dataframe tbody tr th {\n",
              "        vertical-align: top;\n",
              "    }\n",
              "\n",
              "    .dataframe thead th {\n",
              "        text-align: right;\n",
              "    }\n",
              "</style>\n",
              "<table border=\"1\" class=\"dataframe\">\n",
              "  <thead>\n",
              "    <tr style=\"text-align: right;\">\n",
              "      <th></th>\n",
              "      <th>KDA</th>\n",
              "      <th>Kills</th>\n",
              "      <th>Deaths</th>\n",
              "      <th>Assists</th>\n",
              "      <th>Kill Participa(%)</th>\n",
              "      <th>Wards Coloc</th>\n",
              "      <th>Control Wards</th>\n",
              "      <th>Wards Elimi</th>\n",
              "      <th>Wards por M</th>\n",
              "      <th>Duración(minutos)</th>\n",
              "      <th>Daño Infligido</th>\n",
              "      <th>Daño Recibido</th>\n",
              "      <th>Total de Oro</th>\n",
              "      <th>Victoria</th>\n",
              "      <th>Duo</th>\n",
              "      <th>Oro por Minuto</th>\n",
              "    </tr>\n",
              "  </thead>\n",
              "  <tbody>\n",
              "    <tr>\n",
              "      <th>count</th>\n",
              "      <td>27.000000</td>\n",
              "      <td>27.000000</td>\n",
              "      <td>27.000000</td>\n",
              "      <td>27.000000</td>\n",
              "      <td>27.000000</td>\n",
              "      <td>27.000000</td>\n",
              "      <td>27.000000</td>\n",
              "      <td>27.000000</td>\n",
              "      <td>27.000000</td>\n",
              "      <td>27.000000</td>\n",
              "      <td>27.000000</td>\n",
              "      <td>27.000000</td>\n",
              "      <td>27.000000</td>\n",
              "      <td>27.000000</td>\n",
              "      <td>27.000000</td>\n",
              "      <td>27.000000</td>\n",
              "    </tr>\n",
              "    <tr>\n",
              "      <th>mean</th>\n",
              "      <td>5.617778</td>\n",
              "      <td>3.148148</td>\n",
              "      <td>4.777778</td>\n",
              "      <td>14.444444</td>\n",
              "      <td>54.296296</td>\n",
              "      <td>29.185185</td>\n",
              "      <td>6.259259</td>\n",
              "      <td>6.851852</td>\n",
              "      <td>0.924861</td>\n",
              "      <td>30.111111</td>\n",
              "      <td>13203.888889</td>\n",
              "      <td>19725.888889</td>\n",
              "      <td>8921.111111</td>\n",
              "      <td>0.555556</td>\n",
              "      <td>0.592593</td>\n",
              "      <td>291.017193</td>\n",
              "    </tr>\n",
              "    <tr>\n",
              "      <th>std</th>\n",
              "      <td>6.297809</td>\n",
              "      <td>4.873032</td>\n",
              "      <td>2.900044</td>\n",
              "      <td>7.772404</td>\n",
              "      <td>18.718183</td>\n",
              "      <td>10.759743</td>\n",
              "      <td>2.379279</td>\n",
              "      <td>4.904501</td>\n",
              "      <td>0.236961</td>\n",
              "      <td>9.471956</td>\n",
              "      <td>13480.307787</td>\n",
              "      <td>9423.097345</td>\n",
              "      <td>3500.372006</td>\n",
              "      <td>0.506370</td>\n",
              "      <td>0.500712</td>\n",
              "      <td>53.819205</td>\n",
              "    </tr>\n",
              "    <tr>\n",
              "      <th>min</th>\n",
              "      <td>0.000000</td>\n",
              "      <td>0.000000</td>\n",
              "      <td>0.000000</td>\n",
              "      <td>0.000000</td>\n",
              "      <td>0.000000</td>\n",
              "      <td>0.000000</td>\n",
              "      <td>0.000000</td>\n",
              "      <td>0.000000</td>\n",
              "      <td>0.000000</td>\n",
              "      <td>5.000000</td>\n",
              "      <td>382.000000</td>\n",
              "      <td>526.000000</td>\n",
              "      <td>968.000000</td>\n",
              "      <td>0.000000</td>\n",
              "      <td>0.000000</td>\n",
              "      <td>193.600000</td>\n",
              "    </tr>\n",
              "    <tr>\n",
              "      <th>25%</th>\n",
              "      <td>1.690000</td>\n",
              "      <td>0.000000</td>\n",
              "      <td>2.500000</td>\n",
              "      <td>9.500000</td>\n",
              "      <td>49.500000</td>\n",
              "      <td>24.500000</td>\n",
              "      <td>5.000000</td>\n",
              "      <td>3.000000</td>\n",
              "      <td>0.883484</td>\n",
              "      <td>27.000000</td>\n",
              "      <td>6740.000000</td>\n",
              "      <td>13670.000000</td>\n",
              "      <td>7332.000000</td>\n",
              "      <td>0.000000</td>\n",
              "      <td>0.000000</td>\n",
              "      <td>250.970238</td>\n",
              "    </tr>\n",
              "    <tr>\n",
              "      <th>50%</th>\n",
              "      <td>4.200000</td>\n",
              "      <td>2.000000</td>\n",
              "      <td>5.000000</td>\n",
              "      <td>14.000000</td>\n",
              "      <td>58.000000</td>\n",
              "      <td>31.000000</td>\n",
              "      <td>6.000000</td>\n",
              "      <td>6.000000</td>\n",
              "      <td>0.968750</td>\n",
              "      <td>30.000000</td>\n",
              "      <td>10202.000000</td>\n",
              "      <td>20854.000000</td>\n",
              "      <td>8800.000000</td>\n",
              "      <td>1.000000</td>\n",
              "      <td>1.000000</td>\n",
              "      <td>287.821429</td>\n",
              "    </tr>\n",
              "    <tr>\n",
              "      <th>75%</th>\n",
              "      <td>6.000000</td>\n",
              "      <td>4.000000</td>\n",
              "      <td>7.000000</td>\n",
              "      <td>21.500000</td>\n",
              "      <td>63.000000</td>\n",
              "      <td>34.000000</td>\n",
              "      <td>7.500000</td>\n",
              "      <td>10.500000</td>\n",
              "      <td>1.031250</td>\n",
              "      <td>34.000000</td>\n",
              "      <td>12990.500000</td>\n",
              "      <td>26732.500000</td>\n",
              "      <td>9980.000000</td>\n",
              "      <td>1.000000</td>\n",
              "      <td>1.000000</td>\n",
              "      <td>321.953818</td>\n",
              "    </tr>\n",
              "    <tr>\n",
              "      <th>max</th>\n",
              "      <td>30.000000</td>\n",
              "      <td>23.000000</td>\n",
              "      <td>13.000000</td>\n",
              "      <td>28.000000</td>\n",
              "      <td>82.000000</td>\n",
              "      <td>45.000000</td>\n",
              "      <td>11.000000</td>\n",
              "      <td>19.000000</td>\n",
              "      <td>1.250000</td>\n",
              "      <td>51.000000</td>\n",
              "      <td>68049.000000</td>\n",
              "      <td>39300.000000</td>\n",
              "      <td>20669.000000</td>\n",
              "      <td>1.000000</td>\n",
              "      <td>1.000000</td>\n",
              "      <td>405.274510</td>\n",
              "    </tr>\n",
              "  </tbody>\n",
              "</table>\n",
              "</div>\n",
              "    <div class=\"colab-df-buttons\">\n",
              "\n",
              "  <div class=\"colab-df-container\">\n",
              "    <button class=\"colab-df-convert\" onclick=\"convertToInteractive('df-5e1bb455-d393-4571-82c2-88ae04ad0842')\"\n",
              "            title=\"Convert this dataframe to an interactive table.\"\n",
              "            style=\"display:none;\">\n",
              "\n",
              "  <svg xmlns=\"http://www.w3.org/2000/svg\" height=\"24px\" viewBox=\"0 -960 960 960\">\n",
              "    <path d=\"M120-120v-720h720v720H120Zm60-500h600v-160H180v160Zm220 220h160v-160H400v160Zm0 220h160v-160H400v160ZM180-400h160v-160H180v160Zm440 0h160v-160H620v160ZM180-180h160v-160H180v160Zm440 0h160v-160H620v160Z\"/>\n",
              "  </svg>\n",
              "    </button>\n",
              "\n",
              "  <style>\n",
              "    .colab-df-container {\n",
              "      display:flex;\n",
              "      gap: 12px;\n",
              "    }\n",
              "\n",
              "    .colab-df-convert {\n",
              "      background-color: #E8F0FE;\n",
              "      border: none;\n",
              "      border-radius: 50%;\n",
              "      cursor: pointer;\n",
              "      display: none;\n",
              "      fill: #1967D2;\n",
              "      height: 32px;\n",
              "      padding: 0 0 0 0;\n",
              "      width: 32px;\n",
              "    }\n",
              "\n",
              "    .colab-df-convert:hover {\n",
              "      background-color: #E2EBFA;\n",
              "      box-shadow: 0px 1px 2px rgba(60, 64, 67, 0.3), 0px 1px 3px 1px rgba(60, 64, 67, 0.15);\n",
              "      fill: #174EA6;\n",
              "    }\n",
              "\n",
              "    .colab-df-buttons div {\n",
              "      margin-bottom: 4px;\n",
              "    }\n",
              "\n",
              "    [theme=dark] .colab-df-convert {\n",
              "      background-color: #3B4455;\n",
              "      fill: #D2E3FC;\n",
              "    }\n",
              "\n",
              "    [theme=dark] .colab-df-convert:hover {\n",
              "      background-color: #434B5C;\n",
              "      box-shadow: 0px 1px 3px 1px rgba(0, 0, 0, 0.15);\n",
              "      filter: drop-shadow(0px 1px 2px rgba(0, 0, 0, 0.3));\n",
              "      fill: #FFFFFF;\n",
              "    }\n",
              "  </style>\n",
              "\n",
              "    <script>\n",
              "      const buttonEl =\n",
              "        document.querySelector('#df-5e1bb455-d393-4571-82c2-88ae04ad0842 button.colab-df-convert');\n",
              "      buttonEl.style.display =\n",
              "        google.colab.kernel.accessAllowed ? 'block' : 'none';\n",
              "\n",
              "      async function convertToInteractive(key) {\n",
              "        const element = document.querySelector('#df-5e1bb455-d393-4571-82c2-88ae04ad0842');\n",
              "        const dataTable =\n",
              "          await google.colab.kernel.invokeFunction('convertToInteractive',\n",
              "                                                    [key], {});\n",
              "        if (!dataTable) return;\n",
              "\n",
              "        const docLinkHtml = 'Like what you see? Visit the ' +\n",
              "          '<a target=\"_blank\" href=https://colab.research.google.com/notebooks/data_table.ipynb>data table notebook</a>'\n",
              "          + ' to learn more about interactive tables.';\n",
              "        element.innerHTML = '';\n",
              "        dataTable['output_type'] = 'display_data';\n",
              "        await google.colab.output.renderOutput(dataTable, element);\n",
              "        const docLink = document.createElement('div');\n",
              "        docLink.innerHTML = docLinkHtml;\n",
              "        element.appendChild(docLink);\n",
              "      }\n",
              "    </script>\n",
              "  </div>\n",
              "\n",
              "\n",
              "    <div id=\"df-eb2489d6-cb06-4be7-835b-83e147a11029\">\n",
              "      <button class=\"colab-df-quickchart\" onclick=\"quickchart('df-eb2489d6-cb06-4be7-835b-83e147a11029')\"\n",
              "                title=\"Suggest charts\"\n",
              "                style=\"display:none;\">\n",
              "\n",
              "<svg xmlns=\"http://www.w3.org/2000/svg\" height=\"24px\"viewBox=\"0 0 24 24\"\n",
              "     width=\"24px\">\n",
              "    <g>\n",
              "        <path d=\"M19 3H5c-1.1 0-2 .9-2 2v14c0 1.1.9 2 2 2h14c1.1 0 2-.9 2-2V5c0-1.1-.9-2-2-2zM9 17H7v-7h2v7zm4 0h-2V7h2v10zm4 0h-2v-4h2v4z\"/>\n",
              "    </g>\n",
              "</svg>\n",
              "      </button>\n",
              "\n",
              "<style>\n",
              "  .colab-df-quickchart {\n",
              "      --bg-color: #E8F0FE;\n",
              "      --fill-color: #1967D2;\n",
              "      --hover-bg-color: #E2EBFA;\n",
              "      --hover-fill-color: #174EA6;\n",
              "      --disabled-fill-color: #AAA;\n",
              "      --disabled-bg-color: #DDD;\n",
              "  }\n",
              "\n",
              "  [theme=dark] .colab-df-quickchart {\n",
              "      --bg-color: #3B4455;\n",
              "      --fill-color: #D2E3FC;\n",
              "      --hover-bg-color: #434B5C;\n",
              "      --hover-fill-color: #FFFFFF;\n",
              "      --disabled-bg-color: #3B4455;\n",
              "      --disabled-fill-color: #666;\n",
              "  }\n",
              "\n",
              "  .colab-df-quickchart {\n",
              "    background-color: var(--bg-color);\n",
              "    border: none;\n",
              "    border-radius: 50%;\n",
              "    cursor: pointer;\n",
              "    display: none;\n",
              "    fill: var(--fill-color);\n",
              "    height: 32px;\n",
              "    padding: 0;\n",
              "    width: 32px;\n",
              "  }\n",
              "\n",
              "  .colab-df-quickchart:hover {\n",
              "    background-color: var(--hover-bg-color);\n",
              "    box-shadow: 0 1px 2px rgba(60, 64, 67, 0.3), 0 1px 3px 1px rgba(60, 64, 67, 0.15);\n",
              "    fill: var(--button-hover-fill-color);\n",
              "  }\n",
              "\n",
              "  .colab-df-quickchart-complete:disabled,\n",
              "  .colab-df-quickchart-complete:disabled:hover {\n",
              "    background-color: var(--disabled-bg-color);\n",
              "    fill: var(--disabled-fill-color);\n",
              "    box-shadow: none;\n",
              "  }\n",
              "\n",
              "  .colab-df-spinner {\n",
              "    border: 2px solid var(--fill-color);\n",
              "    border-color: transparent;\n",
              "    border-bottom-color: var(--fill-color);\n",
              "    animation:\n",
              "      spin 1s steps(1) infinite;\n",
              "  }\n",
              "\n",
              "  @keyframes spin {\n",
              "    0% {\n",
              "      border-color: transparent;\n",
              "      border-bottom-color: var(--fill-color);\n",
              "      border-left-color: var(--fill-color);\n",
              "    }\n",
              "    20% {\n",
              "      border-color: transparent;\n",
              "      border-left-color: var(--fill-color);\n",
              "      border-top-color: var(--fill-color);\n",
              "    }\n",
              "    30% {\n",
              "      border-color: transparent;\n",
              "      border-left-color: var(--fill-color);\n",
              "      border-top-color: var(--fill-color);\n",
              "      border-right-color: var(--fill-color);\n",
              "    }\n",
              "    40% {\n",
              "      border-color: transparent;\n",
              "      border-right-color: var(--fill-color);\n",
              "      border-top-color: var(--fill-color);\n",
              "    }\n",
              "    60% {\n",
              "      border-color: transparent;\n",
              "      border-right-color: var(--fill-color);\n",
              "    }\n",
              "    80% {\n",
              "      border-color: transparent;\n",
              "      border-right-color: var(--fill-color);\n",
              "      border-bottom-color: var(--fill-color);\n",
              "    }\n",
              "    90% {\n",
              "      border-color: transparent;\n",
              "      border-bottom-color: var(--fill-color);\n",
              "    }\n",
              "  }\n",
              "</style>\n",
              "\n",
              "      <script>\n",
              "        async function quickchart(key) {\n",
              "          const quickchartButtonEl =\n",
              "            document.querySelector('#' + key + ' button');\n",
              "          quickchartButtonEl.disabled = true;  // To prevent multiple clicks.\n",
              "          quickchartButtonEl.classList.add('colab-df-spinner');\n",
              "          try {\n",
              "            const charts = await google.colab.kernel.invokeFunction(\n",
              "                'suggestCharts', [key], {});\n",
              "          } catch (error) {\n",
              "            console.error('Error during call to suggestCharts:', error);\n",
              "          }\n",
              "          quickchartButtonEl.classList.remove('colab-df-spinner');\n",
              "          quickchartButtonEl.classList.add('colab-df-quickchart-complete');\n",
              "        }\n",
              "        (() => {\n",
              "          let quickchartButtonEl =\n",
              "            document.querySelector('#df-eb2489d6-cb06-4be7-835b-83e147a11029 button');\n",
              "          quickchartButtonEl.style.display =\n",
              "            google.colab.kernel.accessAllowed ? 'block' : 'none';\n",
              "        })();\n",
              "      </script>\n",
              "    </div>\n",
              "\n",
              "    </div>\n",
              "  </div>\n"
            ],
            "application/vnd.google.colaboratory.intrinsic+json": {
              "type": "dataframe",
              "summary": "{\n  \"name\": \"estado\",\n  \"rows\": 8,\n  \"fields\": [\n    {\n      \"column\": \"KDA\",\n      \"properties\": {\n        \"dtype\": \"number\",\n        \"std\": 11.591407350510968,\n        \"min\": 0.0,\n        \"max\": 30.0,\n        \"num_unique_values\": 8,\n        \"samples\": [\n          5.617777777777778,\n          4.2,\n          27.0\n        ],\n        \"semantic_type\": \"\",\n        \"description\": \"\"\n      }\n    },\n    {\n      \"column\": \"Kills\",\n      \"properties\": {\n        \"dtype\": \"number\",\n        \"std\": 10.685894177146862,\n        \"min\": 0.0,\n        \"max\": 27.0,\n        \"num_unique_values\": 7,\n        \"samples\": [\n          27.0,\n          3.1481481481481484,\n          4.0\n        ],\n        \"semantic_type\": \"\",\n        \"description\": \"\"\n      }\n    },\n    {\n      \"column\": \"Deaths\",\n      \"properties\": {\n        \"dtype\": \"number\",\n        \"std\": 8.670370098684224,\n        \"min\": 0.0,\n        \"max\": 27.0,\n        \"num_unique_values\": 8,\n        \"samples\": [\n          4.777777777777778,\n          5.0,\n          27.0\n        ],\n        \"semantic_type\": \"\",\n        \"description\": \"\"\n      }\n    },\n    {\n      \"column\": \"Assists\",\n      \"properties\": {\n        \"dtype\": \"number\",\n        \"std\": 9.735300208563261,\n        \"min\": 0.0,\n        \"max\": 28.0,\n        \"num_unique_values\": 8,\n        \"samples\": [\n          14.444444444444445,\n          14.0,\n          27.0\n        ],\n        \"semantic_type\": \"\",\n        \"description\": \"\"\n      }\n    },\n    {\n      \"column\": \"Kill Participa(%)\",\n      \"properties\": {\n        \"dtype\": \"number\",\n        \"std\": 26.729868013547115,\n        \"min\": 0.0,\n        \"max\": 82.0,\n        \"num_unique_values\": 8,\n        \"samples\": [\n          54.2962962962963,\n          57.99999999999999,\n          27.0\n        ],\n        \"semantic_type\": \"\",\n        \"description\": \"\"\n      }\n    },\n    {\n      \"column\": \"Wards Coloc\",\n      \"properties\": {\n        \"dtype\": \"number\",\n        \"std\": 13.970835456209738,\n        \"min\": 0.0,\n        \"max\": 45.0,\n        \"num_unique_values\": 8,\n        \"samples\": [\n          29.185185185185187,\n          31.0,\n          27.0\n        ],\n        \"semantic_type\": \"\",\n        \"description\": \"\"\n      }\n    },\n    {\n      \"column\": \"Control Wards\",\n      \"properties\": {\n        \"dtype\": \"number\",\n        \"std\": 8.295529337888587,\n        \"min\": 0.0,\n        \"max\": 27.0,\n        \"num_unique_values\": 8,\n        \"samples\": [\n          6.2592592592592595,\n          6.0,\n          27.0\n        ],\n        \"semantic_type\": \"\",\n        \"description\": \"\"\n      }\n    },\n    {\n      \"column\": \"Wards Elimi\",\n      \"properties\": {\n        \"dtype\": \"number\",\n        \"std\": 9.025234432239731,\n        \"min\": 0.0,\n        \"max\": 27.0,\n        \"num_unique_values\": 8,\n        \"samples\": [\n          6.851851851851852,\n          6.0,\n          27.0\n        ],\n        \"semantic_type\": \"\",\n        \"description\": \"\"\n      }\n    },\n    {\n      \"column\": \"Wards por M\",\n      \"properties\": {\n        \"dtype\": \"number\",\n        \"std\": 9.28811194628645,\n        \"min\": 0.0,\n        \"max\": 27.0,\n        \"num_unique_values\": 8,\n        \"samples\": [\n          0.9248613438868312,\n          0.96875,\n          27.0\n        ],\n        \"semantic_type\": \"\",\n        \"description\": \"\"\n      }\n    },\n    {\n      \"column\": \"Duraci\\u00f3n(minutos)\",\n      \"properties\": {\n        \"dtype\": \"number\",\n        \"std\": 14.313735393554545,\n        \"min\": 5.0,\n        \"max\": 51.0,\n        \"num_unique_values\": 7,\n        \"samples\": [\n          27.0,\n          30.11111111111111,\n          34.0\n        ],\n        \"semantic_type\": \"\",\n        \"description\": \"\"\n      }\n    },\n    {\n      \"column\": \"Da\\u00f1o Infligido\",\n      \"properties\": {\n        \"dtype\": \"number\",\n        \"std\": 21875.21741770396,\n        \"min\": 27.0,\n        \"max\": 68049.0,\n        \"num_unique_values\": 8,\n        \"samples\": [\n          13203.888888888889,\n          10202.0,\n          27.0\n        ],\n        \"semantic_type\": \"\",\n        \"description\": \"\"\n      }\n    },\n    {\n      \"column\": \"Da\\u00f1o Recibido\",\n      \"properties\": {\n        \"dtype\": \"number\",\n        \"std\": 13299.562177508147,\n        \"min\": 27.0,\n        \"max\": 39300.0,\n        \"num_unique_values\": 8,\n        \"samples\": [\n          19725.88888888889,\n          20854.0,\n          27.0\n        ],\n        \"semantic_type\": \"\",\n        \"description\": \"\"\n      }\n    },\n    {\n      \"column\": \"Total de Oro\",\n      \"properties\": {\n        \"dtype\": \"number\",\n        \"std\": 6522.659886162296,\n        \"min\": 27.0,\n        \"max\": 20669.0,\n        \"num_unique_values\": 8,\n        \"samples\": [\n          8921.111111111111,\n          8800.0,\n          27.0\n        ],\n        \"semantic_type\": \"\",\n        \"description\": \"\"\n      }\n    },\n    {\n      \"column\": \"Victoria\",\n      \"properties\": {\n        \"dtype\": \"number\",\n        \"std\": 9.35001644220716,\n        \"min\": 0.0,\n        \"max\": 27.0,\n        \"num_unique_values\": 5,\n        \"samples\": [\n          0.5555555555555556,\n          1.0,\n          0.5063696835418333\n        ],\n        \"semantic_type\": \"\",\n        \"description\": \"\"\n      }\n    },\n    {\n      \"column\": \"Duo\",\n      \"properties\": {\n        \"dtype\": \"number\",\n        \"std\": 9.348435173939782,\n        \"min\": 0.0,\n        \"max\": 27.0,\n        \"num_unique_values\": 5,\n        \"samples\": [\n          0.5925925925925926,\n          1.0,\n          0.5007117441325404\n        ],\n        \"semantic_type\": \"\",\n        \"description\": \"\"\n      }\n    },\n    {\n      \"column\": \"Oro por Minuto\",\n      \"properties\": {\n        \"dtype\": \"number\",\n        \"std\": 131.065596011683,\n        \"min\": 27.0,\n        \"max\": 405.2745098039215,\n        \"num_unique_values\": 8,\n        \"samples\": [\n          291.01719291599426,\n          287.8214285714286,\n          27.0\n        ],\n        \"semantic_type\": \"\",\n        \"description\": \"\"\n      }\n    }\n  ]\n}"
            }
          },
          "metadata": {},
          "execution_count": 43
        }
      ]
    },
    {
      "cell_type": "markdown",
      "source": [
        "# Análisis estadístico descriptivo"
      ],
      "metadata": {
        "id": "41Uu0JoPNJbV"
      }
    },
    {
      "cell_type": "code",
      "source": [
        "prom_kda=df[df['Victoria'] == 1]['KDA'].mean()\n",
        "prom_kda"
      ],
      "metadata": {
        "id": "8-XysQkwMzAf",
        "colab": {
          "base_uri": "https://localhost:8080/"
        },
        "outputId": "c4dc51d7-70f9-49ca-a142-bba876b6843c"
      },
      "execution_count": 44,
      "outputs": [
        {
          "output_type": "execute_result",
          "data": {
            "text/plain": [
              "np.float64(8.431999999999999)"
            ]
          },
          "metadata": {},
          "execution_count": 44
        }
      ]
    },
    {
      "cell_type": "code",
      "source": [
        "wr_duo = df[df['Duo'] == 1]['Victoria'].mean()\n",
        "wr__solo = df[df['Duo'] == 0]['Victoria'].mean()\n",
        "\n",
        "wr_duo, wr__solo\n"
      ],
      "metadata": {
        "id": "nUbjuOLfODe6",
        "colab": {
          "base_uri": "https://localhost:8080/"
        },
        "outputId": "e830d265-d943-429c-a93f-6fba8c1ce0cc"
      },
      "execution_count": 45,
      "outputs": [
        {
          "output_type": "execute_result",
          "data": {
            "text/plain": [
              "(np.float64(0.75), np.float64(0.2727272727272727))"
            ]
          },
          "metadata": {},
          "execution_count": 45
        }
      ]
    },
    {
      "cell_type": "code",
      "source": [
        "k_duo = df[df['Duo'] == 1]['Kills'].mean()\n",
        "k_solo = df[df['Duo'] == 0]['Kills'].mean()\n",
        "\n",
        "k_duo, k_solo"
      ],
      "metadata": {
        "id": "Lf2q7LTbOOoc",
        "colab": {
          "base_uri": "https://localhost:8080/"
        },
        "outputId": "63b620aa-751e-44c4-bad5-e279456bfb6d"
      },
      "execution_count": 46,
      "outputs": [
        {
          "output_type": "execute_result",
          "data": {
            "text/plain": [
              "(np.float64(4.5), np.float64(1.1818181818181819))"
            ]
          },
          "metadata": {},
          "execution_count": 46
        }
      ]
    },
    {
      "cell_type": "code",
      "source": [
        "a_duo = df[df['Duo'] == 1]['Assists'].mean()\n",
        "a_solo = df[df['Duo'] == 0]['Assists'].mean()\n",
        "\n",
        "a_duo, a_solo"
      ],
      "metadata": {
        "id": "2hbxv1PPOktn",
        "colab": {
          "base_uri": "https://localhost:8080/"
        },
        "outputId": "c9874d6d-637e-4887-c5a0-b07cce6a0328"
      },
      "execution_count": 47,
      "outputs": [
        {
          "output_type": "execute_result",
          "data": {
            "text/plain": [
              "(np.float64(16.6875), np.float64(11.181818181818182))"
            ]
          },
          "metadata": {},
          "execution_count": 47
        }
      ]
    },
    {
      "cell_type": "code",
      "source": [
        "d_duo = df[df['Duo'] == 1]['Deaths'].mean()\n",
        "d_solo = df[df['Duo'] == 0]['Deaths'].mean()\n",
        "\n",
        "d_duo, d_solo"
      ],
      "metadata": {
        "id": "H0RvyQ5PPCwe",
        "colab": {
          "base_uri": "https://localhost:8080/"
        },
        "outputId": "2f021658-0c84-4367-ec29-a888119a5709"
      },
      "execution_count": 48,
      "outputs": [
        {
          "output_type": "execute_result",
          "data": {
            "text/plain": [
              "(np.float64(4.25), np.float64(5.545454545454546))"
            ]
          },
          "metadata": {},
          "execution_count": 48
        }
      ]
    },
    {
      "cell_type": "code",
      "source": [
        "kp_duo = df[df['Duo'] == 1]['Kill Participa(%)'].mean()\n",
        "kp_solo = df[df['Duo'] == 0]['Kill Participa(%)'].mean()\n",
        "\n",
        "kp_duo, kp_solo"
      ],
      "metadata": {
        "id": "TFTlKGrvPKyV",
        "colab": {
          "base_uri": "https://localhost:8080/"
        },
        "outputId": "85fcb816-6500-4ad8-c4d2-6f3081562850"
      },
      "execution_count": 49,
      "outputs": [
        {
          "output_type": "execute_result",
          "data": {
            "text/plain": [
              "(np.float64(60.5), np.float64(45.27272727272727))"
            ]
          },
          "metadata": {},
          "execution_count": 49
        }
      ]
    },
    {
      "cell_type": "code",
      "source": [
        "o_duo = df[df['Duo'] == 1]['Total de Oro'].mean()\n",
        "o_solo = df[df['Duo'] == 0]['Total de Oro'].mean()\n",
        "\n",
        "o_duo, o_solo"
      ],
      "metadata": {
        "id": "iiGzOIlrPivs",
        "colab": {
          "base_uri": "https://localhost:8080/"
        },
        "outputId": "85446711-0d3e-40e5-af2c-4dcdd53d8652"
      },
      "execution_count": 50,
      "outputs": [
        {
          "output_type": "execute_result",
          "data": {
            "text/plain": [
              "(np.float64(10094.1875), np.float64(7214.818181818182))"
            ]
          },
          "metadata": {},
          "execution_count": 50
        }
      ]
    },
    {
      "cell_type": "code",
      "source": [
        "pk_lulu = df[df['Campeón'] == 'Lulu']['Kills'].mean()\n",
        "pa_lulu = df[df['Campeón'] == 'Lulu']['Assists'].mean()\n",
        "pd_lulu = df[df['Campeón'] == 'Lulu']['Deaths'].mean()\n",
        "pk_lulu, pa_lulu, pd_lulu\n"
      ],
      "metadata": {
        "id": "uIknWcNcRbvs",
        "colab": {
          "base_uri": "https://localhost:8080/"
        },
        "outputId": "e6921f6e-163d-4d11-8ce1-9ae3ea01d412"
      },
      "execution_count": 51,
      "outputs": [
        {
          "output_type": "execute_result",
          "data": {
            "text/plain": [
              "(np.float64(1.0), np.float64(14.25), np.float64(3.25))"
            ]
          },
          "metadata": {},
          "execution_count": 51
        }
      ]
    },
    {
      "cell_type": "code",
      "source": [
        "pk_mel = df[df['Campeón'] == 'Mel']['Kills'].mean()\n",
        "pa_mel = df[df['Campeón'] == 'Mel']['Assists'].mean()\n",
        "pd_mel = df[df['Campeón'] == 'Mel']['Deaths'].mean()\n",
        "pk_mel, pa_mel, pd_mel\n"
      ],
      "metadata": {
        "id": "LgcUAaQtR797",
        "colab": {
          "base_uri": "https://localhost:8080/"
        },
        "outputId": "570d626c-12ab-447a-f72d-872fb7b80c42"
      },
      "execution_count": 52,
      "outputs": [
        {
          "output_type": "execute_result",
          "data": {
            "text/plain": [
              "(np.float64(11.0), np.float64(10.25), np.float64(5.25))"
            ]
          },
          "metadata": {},
          "execution_count": 52
        }
      ]
    },
    {
      "cell_type": "code",
      "source": [
        "pk_leona = df[df['Campeón'] == 'Leona']['Kills'].mean()\n",
        "pa_leona = df[df['Campeón'] == 'Leona']['Assists'].mean()\n",
        "pd_leona = df[df['Campeón'] == 'Leona']['Deaths'].mean()\n",
        "pk_leona, pa_leona, pd_leona\n"
      ],
      "metadata": {
        "id": "NFFuR3TASS4h",
        "colab": {
          "base_uri": "https://localhost:8080/"
        },
        "outputId": "58e59d34-a27b-43ed-b649-5e29718546c5"
      },
      "execution_count": 53,
      "outputs": [
        {
          "output_type": "execute_result",
          "data": {
            "text/plain": [
              "(np.float64(1.25), np.float64(12.5), np.float64(7.0))"
            ]
          },
          "metadata": {},
          "execution_count": 53
        }
      ]
    },
    {
      "cell_type": "code",
      "source": [
        "wr_lulu = df[df['Campeón'] == 'Lulu']['Victoria'].mean()\n",
        "wr_lulu"
      ],
      "metadata": {
        "id": "F3hNNs01ZChD",
        "colab": {
          "base_uri": "https://localhost:8080/"
        },
        "outputId": "65a1784f-097b-404e-f5c0-eed04ae77634"
      },
      "execution_count": 54,
      "outputs": [
        {
          "output_type": "execute_result",
          "data": {
            "text/plain": [
              "np.float64(0.625)"
            ]
          },
          "metadata": {},
          "execution_count": 54
        }
      ]
    },
    {
      "cell_type": "code",
      "source": [
        "wc_lulu= df[df['Campeón'] == 'Lulu']['Wards por M'].mean()\n",
        "wc_lulu"
      ],
      "metadata": {
        "id": "bD0QV1coaY46",
        "colab": {
          "base_uri": "https://localhost:8080/"
        },
        "outputId": "b5617ab3-4fd3-4d5c-efc7-ffd68330eae2"
      },
      "execution_count": 55,
      "outputs": [
        {
          "output_type": "execute_result",
          "data": {
            "text/plain": [
              "np.float64(0.8607283943237289)"
            ]
          },
          "metadata": {},
          "execution_count": 55
        }
      ]
    },
    {
      "cell_type": "code",
      "source": [
        "df['Oro por Minuto'] = df['Total de Oro'] / df['Duración(minutos)']\n",
        "df[['Total de Oro', 'Duración(minutos)', 'Oro por Minuto']].head()"
      ],
      "metadata": {
        "id": "_FkDuP_NbIGX",
        "colab": {
          "base_uri": "https://localhost:8080/",
          "height": 206
        },
        "outputId": "ea35abbf-53f0-43ff-ffc6-281b37e8a558"
      },
      "execution_count": 56,
      "outputs": [
        {
          "output_type": "execute_result",
          "data": {
            "text/plain": [
              "   Total de Oro  Duración(minutos)  Oro por Minuto\n",
              "0          9152                 29      315.586207\n",
              "1          6780                 22      308.181818\n",
              "2          8771                 26      337.346154\n",
              "3          7645                 32      238.906250\n",
              "4          6034                 23      262.347826"
            ],
            "text/html": [
              "\n",
              "  <div id=\"df-77db4507-2103-436d-8ca6-c68c7d91cbbe\" class=\"colab-df-container\">\n",
              "    <div>\n",
              "<style scoped>\n",
              "    .dataframe tbody tr th:only-of-type {\n",
              "        vertical-align: middle;\n",
              "    }\n",
              "\n",
              "    .dataframe tbody tr th {\n",
              "        vertical-align: top;\n",
              "    }\n",
              "\n",
              "    .dataframe thead th {\n",
              "        text-align: right;\n",
              "    }\n",
              "</style>\n",
              "<table border=\"1\" class=\"dataframe\">\n",
              "  <thead>\n",
              "    <tr style=\"text-align: right;\">\n",
              "      <th></th>\n",
              "      <th>Total de Oro</th>\n",
              "      <th>Duración(minutos)</th>\n",
              "      <th>Oro por Minuto</th>\n",
              "    </tr>\n",
              "  </thead>\n",
              "  <tbody>\n",
              "    <tr>\n",
              "      <th>0</th>\n",
              "      <td>9152</td>\n",
              "      <td>29</td>\n",
              "      <td>315.586207</td>\n",
              "    </tr>\n",
              "    <tr>\n",
              "      <th>1</th>\n",
              "      <td>6780</td>\n",
              "      <td>22</td>\n",
              "      <td>308.181818</td>\n",
              "    </tr>\n",
              "    <tr>\n",
              "      <th>2</th>\n",
              "      <td>8771</td>\n",
              "      <td>26</td>\n",
              "      <td>337.346154</td>\n",
              "    </tr>\n",
              "    <tr>\n",
              "      <th>3</th>\n",
              "      <td>7645</td>\n",
              "      <td>32</td>\n",
              "      <td>238.906250</td>\n",
              "    </tr>\n",
              "    <tr>\n",
              "      <th>4</th>\n",
              "      <td>6034</td>\n",
              "      <td>23</td>\n",
              "      <td>262.347826</td>\n",
              "    </tr>\n",
              "  </tbody>\n",
              "</table>\n",
              "</div>\n",
              "    <div class=\"colab-df-buttons\">\n",
              "\n",
              "  <div class=\"colab-df-container\">\n",
              "    <button class=\"colab-df-convert\" onclick=\"convertToInteractive('df-77db4507-2103-436d-8ca6-c68c7d91cbbe')\"\n",
              "            title=\"Convert this dataframe to an interactive table.\"\n",
              "            style=\"display:none;\">\n",
              "\n",
              "  <svg xmlns=\"http://www.w3.org/2000/svg\" height=\"24px\" viewBox=\"0 -960 960 960\">\n",
              "    <path d=\"M120-120v-720h720v720H120Zm60-500h600v-160H180v160Zm220 220h160v-160H400v160Zm0 220h160v-160H400v160ZM180-400h160v-160H180v160Zm440 0h160v-160H620v160ZM180-180h160v-160H180v160Zm440 0h160v-160H620v160Z\"/>\n",
              "  </svg>\n",
              "    </button>\n",
              "\n",
              "  <style>\n",
              "    .colab-df-container {\n",
              "      display:flex;\n",
              "      gap: 12px;\n",
              "    }\n",
              "\n",
              "    .colab-df-convert {\n",
              "      background-color: #E8F0FE;\n",
              "      border: none;\n",
              "      border-radius: 50%;\n",
              "      cursor: pointer;\n",
              "      display: none;\n",
              "      fill: #1967D2;\n",
              "      height: 32px;\n",
              "      padding: 0 0 0 0;\n",
              "      width: 32px;\n",
              "    }\n",
              "\n",
              "    .colab-df-convert:hover {\n",
              "      background-color: #E2EBFA;\n",
              "      box-shadow: 0px 1px 2px rgba(60, 64, 67, 0.3), 0px 1px 3px 1px rgba(60, 64, 67, 0.15);\n",
              "      fill: #174EA6;\n",
              "    }\n",
              "\n",
              "    .colab-df-buttons div {\n",
              "      margin-bottom: 4px;\n",
              "    }\n",
              "\n",
              "    [theme=dark] .colab-df-convert {\n",
              "      background-color: #3B4455;\n",
              "      fill: #D2E3FC;\n",
              "    }\n",
              "\n",
              "    [theme=dark] .colab-df-convert:hover {\n",
              "      background-color: #434B5C;\n",
              "      box-shadow: 0px 1px 3px 1px rgba(0, 0, 0, 0.15);\n",
              "      filter: drop-shadow(0px 1px 2px rgba(0, 0, 0, 0.3));\n",
              "      fill: #FFFFFF;\n",
              "    }\n",
              "  </style>\n",
              "\n",
              "    <script>\n",
              "      const buttonEl =\n",
              "        document.querySelector('#df-77db4507-2103-436d-8ca6-c68c7d91cbbe button.colab-df-convert');\n",
              "      buttonEl.style.display =\n",
              "        google.colab.kernel.accessAllowed ? 'block' : 'none';\n",
              "\n",
              "      async function convertToInteractive(key) {\n",
              "        const element = document.querySelector('#df-77db4507-2103-436d-8ca6-c68c7d91cbbe');\n",
              "        const dataTable =\n",
              "          await google.colab.kernel.invokeFunction('convertToInteractive',\n",
              "                                                    [key], {});\n",
              "        if (!dataTable) return;\n",
              "\n",
              "        const docLinkHtml = 'Like what you see? Visit the ' +\n",
              "          '<a target=\"_blank\" href=https://colab.research.google.com/notebooks/data_table.ipynb>data table notebook</a>'\n",
              "          + ' to learn more about interactive tables.';\n",
              "        element.innerHTML = '';\n",
              "        dataTable['output_type'] = 'display_data';\n",
              "        await google.colab.output.renderOutput(dataTable, element);\n",
              "        const docLink = document.createElement('div');\n",
              "        docLink.innerHTML = docLinkHtml;\n",
              "        element.appendChild(docLink);\n",
              "      }\n",
              "    </script>\n",
              "  </div>\n",
              "\n",
              "\n",
              "    <div id=\"df-bb7133f3-4775-41fa-b02c-d87ef5d006a5\">\n",
              "      <button class=\"colab-df-quickchart\" onclick=\"quickchart('df-bb7133f3-4775-41fa-b02c-d87ef5d006a5')\"\n",
              "                title=\"Suggest charts\"\n",
              "                style=\"display:none;\">\n",
              "\n",
              "<svg xmlns=\"http://www.w3.org/2000/svg\" height=\"24px\"viewBox=\"0 0 24 24\"\n",
              "     width=\"24px\">\n",
              "    <g>\n",
              "        <path d=\"M19 3H5c-1.1 0-2 .9-2 2v14c0 1.1.9 2 2 2h14c1.1 0 2-.9 2-2V5c0-1.1-.9-2-2-2zM9 17H7v-7h2v7zm4 0h-2V7h2v10zm4 0h-2v-4h2v4z\"/>\n",
              "    </g>\n",
              "</svg>\n",
              "      </button>\n",
              "\n",
              "<style>\n",
              "  .colab-df-quickchart {\n",
              "      --bg-color: #E8F0FE;\n",
              "      --fill-color: #1967D2;\n",
              "      --hover-bg-color: #E2EBFA;\n",
              "      --hover-fill-color: #174EA6;\n",
              "      --disabled-fill-color: #AAA;\n",
              "      --disabled-bg-color: #DDD;\n",
              "  }\n",
              "\n",
              "  [theme=dark] .colab-df-quickchart {\n",
              "      --bg-color: #3B4455;\n",
              "      --fill-color: #D2E3FC;\n",
              "      --hover-bg-color: #434B5C;\n",
              "      --hover-fill-color: #FFFFFF;\n",
              "      --disabled-bg-color: #3B4455;\n",
              "      --disabled-fill-color: #666;\n",
              "  }\n",
              "\n",
              "  .colab-df-quickchart {\n",
              "    background-color: var(--bg-color);\n",
              "    border: none;\n",
              "    border-radius: 50%;\n",
              "    cursor: pointer;\n",
              "    display: none;\n",
              "    fill: var(--fill-color);\n",
              "    height: 32px;\n",
              "    padding: 0;\n",
              "    width: 32px;\n",
              "  }\n",
              "\n",
              "  .colab-df-quickchart:hover {\n",
              "    background-color: var(--hover-bg-color);\n",
              "    box-shadow: 0 1px 2px rgba(60, 64, 67, 0.3), 0 1px 3px 1px rgba(60, 64, 67, 0.15);\n",
              "    fill: var(--button-hover-fill-color);\n",
              "  }\n",
              "\n",
              "  .colab-df-quickchart-complete:disabled,\n",
              "  .colab-df-quickchart-complete:disabled:hover {\n",
              "    background-color: var(--disabled-bg-color);\n",
              "    fill: var(--disabled-fill-color);\n",
              "    box-shadow: none;\n",
              "  }\n",
              "\n",
              "  .colab-df-spinner {\n",
              "    border: 2px solid var(--fill-color);\n",
              "    border-color: transparent;\n",
              "    border-bottom-color: var(--fill-color);\n",
              "    animation:\n",
              "      spin 1s steps(1) infinite;\n",
              "  }\n",
              "\n",
              "  @keyframes spin {\n",
              "    0% {\n",
              "      border-color: transparent;\n",
              "      border-bottom-color: var(--fill-color);\n",
              "      border-left-color: var(--fill-color);\n",
              "    }\n",
              "    20% {\n",
              "      border-color: transparent;\n",
              "      border-left-color: var(--fill-color);\n",
              "      border-top-color: var(--fill-color);\n",
              "    }\n",
              "    30% {\n",
              "      border-color: transparent;\n",
              "      border-left-color: var(--fill-color);\n",
              "      border-top-color: var(--fill-color);\n",
              "      border-right-color: var(--fill-color);\n",
              "    }\n",
              "    40% {\n",
              "      border-color: transparent;\n",
              "      border-right-color: var(--fill-color);\n",
              "      border-top-color: var(--fill-color);\n",
              "    }\n",
              "    60% {\n",
              "      border-color: transparent;\n",
              "      border-right-color: var(--fill-color);\n",
              "    }\n",
              "    80% {\n",
              "      border-color: transparent;\n",
              "      border-right-color: var(--fill-color);\n",
              "      border-bottom-color: var(--fill-color);\n",
              "    }\n",
              "    90% {\n",
              "      border-color: transparent;\n",
              "      border-bottom-color: var(--fill-color);\n",
              "    }\n",
              "  }\n",
              "</style>\n",
              "\n",
              "      <script>\n",
              "        async function quickchart(key) {\n",
              "          const quickchartButtonEl =\n",
              "            document.querySelector('#' + key + ' button');\n",
              "          quickchartButtonEl.disabled = true;  // To prevent multiple clicks.\n",
              "          quickchartButtonEl.classList.add('colab-df-spinner');\n",
              "          try {\n",
              "            const charts = await google.colab.kernel.invokeFunction(\n",
              "                'suggestCharts', [key], {});\n",
              "          } catch (error) {\n",
              "            console.error('Error during call to suggestCharts:', error);\n",
              "          }\n",
              "          quickchartButtonEl.classList.remove('colab-df-spinner');\n",
              "          quickchartButtonEl.classList.add('colab-df-quickchart-complete');\n",
              "        }\n",
              "        (() => {\n",
              "          let quickchartButtonEl =\n",
              "            document.querySelector('#df-bb7133f3-4775-41fa-b02c-d87ef5d006a5 button');\n",
              "          quickchartButtonEl.style.display =\n",
              "            google.colab.kernel.accessAllowed ? 'block' : 'none';\n",
              "        })();\n",
              "      </script>\n",
              "    </div>\n",
              "\n",
              "    </div>\n",
              "  </div>\n"
            ],
            "application/vnd.google.colaboratory.intrinsic+json": {
              "type": "dataframe",
              "summary": "{\n  \"name\": \"df[['Total de Oro', 'Duraci\\u00f3n(minutos)', 'Oro por Minuto']]\",\n  \"rows\": 5,\n  \"fields\": [\n    {\n      \"column\": \"Total de Oro\",\n      \"properties\": {\n        \"dtype\": \"number\",\n        \"std\": 1311,\n        \"min\": 6034,\n        \"max\": 9152,\n        \"num_unique_values\": 5,\n        \"samples\": [\n          6780,\n          6034,\n          8771\n        ],\n        \"semantic_type\": \"\",\n        \"description\": \"\"\n      }\n    },\n    {\n      \"column\": \"Duraci\\u00f3n(minutos)\",\n      \"properties\": {\n        \"dtype\": \"number\",\n        \"std\": 4,\n        \"min\": 22,\n        \"max\": 32,\n        \"num_unique_values\": 5,\n        \"samples\": [\n          22,\n          23,\n          26\n        ],\n        \"semantic_type\": \"\",\n        \"description\": \"\"\n      }\n    },\n    {\n      \"column\": \"Oro por Minuto\",\n      \"properties\": {\n        \"dtype\": \"number\",\n        \"std\": 40.53242542874599,\n        \"min\": 238.90625,\n        \"max\": 337.34615384615387,\n        \"num_unique_values\": 5,\n        \"samples\": [\n          308.1818181818182,\n          262.3478260869565,\n          337.34615384615387\n        ],\n        \"semantic_type\": \"\",\n        \"description\": \"\"\n      }\n    }\n  ]\n}"
            }
          },
          "metadata": {},
          "execution_count": 56
        }
      ]
    },
    {
      "cell_type": "code",
      "source": [
        "file_path_updated = \"datos_lol_actualizado.xlsx\"\n",
        "df.to_excel(file_path_updated, index=False)"
      ],
      "metadata": {
        "id": "RmMlpFiquZAF"
      },
      "execution_count": 57,
      "outputs": []
    },
    {
      "cell_type": "code",
      "source": [
        "from google.colab import files\n",
        "files.download('datos_lol_actualizado.xlsx')"
      ],
      "metadata": {
        "id": "bxQD2SkpubNv",
        "colab": {
          "base_uri": "https://localhost:8080/",
          "height": 17
        },
        "outputId": "11de6405-9994-44cb-c5d7-92038d004bd5"
      },
      "execution_count": 58,
      "outputs": [
        {
          "output_type": "display_data",
          "data": {
            "text/plain": [
              "<IPython.core.display.Javascript object>"
            ],
            "application/javascript": [
              "\n",
              "    async function download(id, filename, size) {\n",
              "      if (!google.colab.kernel.accessAllowed) {\n",
              "        return;\n",
              "      }\n",
              "      const div = document.createElement('div');\n",
              "      const label = document.createElement('label');\n",
              "      label.textContent = `Downloading \"${filename}\": `;\n",
              "      div.appendChild(label);\n",
              "      const progress = document.createElement('progress');\n",
              "      progress.max = size;\n",
              "      div.appendChild(progress);\n",
              "      document.body.appendChild(div);\n",
              "\n",
              "      const buffers = [];\n",
              "      let downloaded = 0;\n",
              "\n",
              "      const channel = await google.colab.kernel.comms.open(id);\n",
              "      // Send a message to notify the kernel that we're ready.\n",
              "      channel.send({})\n",
              "\n",
              "      for await (const message of channel.messages) {\n",
              "        // Send a message to notify the kernel that we're ready.\n",
              "        channel.send({})\n",
              "        if (message.buffers) {\n",
              "          for (const buffer of message.buffers) {\n",
              "            buffers.push(buffer);\n",
              "            downloaded += buffer.byteLength;\n",
              "            progress.value = downloaded;\n",
              "          }\n",
              "        }\n",
              "      }\n",
              "      const blob = new Blob(buffers, {type: 'application/binary'});\n",
              "      const a = document.createElement('a');\n",
              "      a.href = window.URL.createObjectURL(blob);\n",
              "      a.download = filename;\n",
              "      div.appendChild(a);\n",
              "      a.click();\n",
              "      div.remove();\n",
              "    }\n",
              "  "
            ]
          },
          "metadata": {}
        },
        {
          "output_type": "display_data",
          "data": {
            "text/plain": [
              "<IPython.core.display.Javascript object>"
            ],
            "application/javascript": [
              "download(\"download_7b43561f-a2ed-45c1-8dcf-5dae6624f30d\", \"datos_lol_actualizado.xlsx\", 7801)"
            ]
          },
          "metadata": {}
        }
      ]
    },
    {
      "cell_type": "code",
      "source": [
        "om_lulu = df[df['Campeón'] == 'Lulu']['Oro por Minuto'].mean()\n",
        "om_lulu"
      ],
      "metadata": {
        "id": "wUicW2wAbUZw",
        "colab": {
          "base_uri": "https://localhost:8080/"
        },
        "outputId": "a0ef4c40-982f-444f-94a8-4f70d7a96e8b"
      },
      "execution_count": 59,
      "outputs": [
        {
          "output_type": "execute_result",
          "data": {
            "text/plain": [
              "np.float64(282.26463671420345)"
            ]
          },
          "metadata": {},
          "execution_count": 59
        }
      ]
    },
    {
      "cell_type": "code",
      "source": [
        "omd_lulu = df[(df['Campeón'] == 'Lulu') & (df['Duo'] == 1)]['Oro por Minuto'].mean()\n",
        "wrd_lulu = df[(df['Campeón'] == 'Lulu') & (df['Duo'] == 1)]['Victoria'].mean()\n",
        "wcd_lulu= df[(df['Campeón'] == 'Lulu') & (df['Duo'] == 1)]['Wards por M'].mean()\n",
        "omd_lulu, wr_lulu, wcd_lulu\n"
      ],
      "metadata": {
        "id": "gkPehKQtcXJ0",
        "colab": {
          "base_uri": "https://localhost:8080/"
        },
        "outputId": "97eec6f2-52cd-4be5-d2d1-f025cee2e553"
      },
      "execution_count": 60,
      "outputs": [
        {
          "output_type": "execute_result",
          "data": {
            "text/plain": [
              "(np.float64(298.145000892827),\n",
              " np.float64(0.625),\n",
              " np.float64(0.9743256743256744))"
            ]
          },
          "metadata": {},
          "execution_count": 60
        }
      ]
    },
    {
      "cell_type": "code",
      "source": [
        "pk_lulu = df[(df['Campeón'] == 'Lulu') & (df['Duo'] == 1)]['Kills'].mean()\n",
        "pa_lulu = df[(df['Campeón'] == 'Lulu') & (df['Duo'] == 1)]['Assists'].mean()\n",
        "pd_lulu = df[(df['Campeón'] == 'Lulu') & (df['Duo'] == 1)]['Deaths'].mean()\n",
        "pk_lulu, pa_lulu, pd_lulu"
      ],
      "metadata": {
        "id": "A0o8CqaSfZC8",
        "colab": {
          "base_uri": "https://localhost:8080/"
        },
        "outputId": "043db787-9a26-4c68-f112-557e912d472f"
      },
      "execution_count": 61,
      "outputs": [
        {
          "output_type": "execute_result",
          "data": {
            "text/plain": [
              "(np.float64(1.2), np.float64(16.8), np.float64(3.4))"
            ]
          },
          "metadata": {},
          "execution_count": 61
        }
      ]
    },
    {
      "cell_type": "code",
      "source": [
        "omd_leona = df[(df['Campeón'] == 'Leona') & (df['Duo'] == 1)]['Oro por Minuto'].mean()\n",
        "wrd_leona = df[(df['Campeón'] == 'Leona') & (df['Duo'] == 1)]['Victoria'].mean()\n",
        "wcd_leona = df[(df['Campeón'] == 'Leona') & (df['Duo'] == 1)]['Wards por M'].mean()\n",
        "omd_leona, wrd_leona, wcd_leona\n"
      ],
      "metadata": {
        "id": "7St6cBa3ggPP",
        "colab": {
          "base_uri": "https://localhost:8080/"
        },
        "outputId": "afe77b7d-49f1-4890-ede0-2f753de8da06"
      },
      "execution_count": 62,
      "outputs": [
        {
          "output_type": "execute_result",
          "data": {
            "text/plain": [
              "(np.float64(352.0), np.float64(1.0), np.float64(1.0))"
            ]
          },
          "metadata": {},
          "execution_count": 62
        }
      ]
    },
    {
      "cell_type": "code",
      "source": [
        "pk_leona = df[(df['Campeón'] == 'Leona') & (df['Duo'] == 1)]['Kills'].mean()\n",
        "pa_leona = df[(df['Campeón'] == 'Leona') & (df['Duo'] == 1)]['Assists'].mean()\n",
        "pd_leona = df[(df['Campeón'] == 'Leona') & (df['Duo'] == 1)]['Deaths'].mean()\n",
        "pk_leona, pa_leona, pd_leona"
      ],
      "metadata": {
        "id": "hK-OtRNxg48k",
        "colab": {
          "base_uri": "https://localhost:8080/"
        },
        "outputId": "99f87c90-1482-46b6-8152-d319a6e91cf4"
      },
      "execution_count": 63,
      "outputs": [
        {
          "output_type": "execute_result",
          "data": {
            "text/plain": [
              "(np.float64(0.0), np.float64(22.0), np.float64(6.0))"
            ]
          },
          "metadata": {},
          "execution_count": 63
        }
      ]
    },
    {
      "cell_type": "code",
      "source": [
        "pk_leona = df[df['Campeón'] == 'Leona']['Kills'].mean()\n",
        "pa_leona = df[df['Campeón'] == 'Leona']['Assists'].mean()\n",
        "pd_leona = df[df['Campeón'] == 'Leona']['Deaths'].mean()\n",
        "pk_leona, pa_leona, pd_leona"
      ],
      "metadata": {
        "id": "yPHCeG3YhJU8",
        "colab": {
          "base_uri": "https://localhost:8080/"
        },
        "outputId": "a7453ac7-d3b8-47a2-d7bd-53531430b399"
      },
      "execution_count": 64,
      "outputs": [
        {
          "output_type": "execute_result",
          "data": {
            "text/plain": [
              "(np.float64(1.25), np.float64(12.5), np.float64(7.0))"
            ]
          },
          "metadata": {},
          "execution_count": 64
        }
      ]
    },
    {
      "cell_type": "code",
      "source": [
        "om_leona = df[df['Campeón'] == 'Leona']['Oro por Minuto'].mean()\n",
        "wr_leona = df[df['Campeón'] == 'Leona']['Victoria'].mean()\n",
        "wc_leona = df[df['Campeón'] == 'Leona']['Wards por M'].mean()\n",
        "om_leona, wr_leona, wc_leona"
      ],
      "metadata": {
        "id": "Oep3FzxYhXWt",
        "colab": {
          "base_uri": "https://localhost:8080/"
        },
        "outputId": "1229f6e5-df59-4d55-a896-5a9769f03c54"
      },
      "execution_count": 65,
      "outputs": [
        {
          "output_type": "execute_result",
          "data": {
            "text/plain": [
              "(np.float64(274.1696428571429), np.float64(0.25), np.float64(1.015625))"
            ]
          },
          "metadata": {},
          "execution_count": 65
        }
      ]
    },
    {
      "cell_type": "code",
      "source": [
        "pk_mel = df[df['Campeón'] == 'Mel']['Kills'].mean()\n",
        "pa_mel = df[df['Campeón'] == 'Mel']['Assists'].mean()\n",
        "pd_mel = df[df['Campeón'] == 'Mel']['Deaths'].mean()\n",
        "pk_mel, pa_mel, pd_mel\n"
      ],
      "metadata": {
        "id": "G7EEQLa8lQcU",
        "colab": {
          "base_uri": "https://localhost:8080/"
        },
        "outputId": "7955dc7d-a3a9-4a75-eda3-dda2733aa0ac"
      },
      "execution_count": 66,
      "outputs": [
        {
          "output_type": "execute_result",
          "data": {
            "text/plain": [
              "(np.float64(11.0), np.float64(10.25), np.float64(5.25))"
            ]
          },
          "metadata": {},
          "execution_count": 66
        }
      ]
    },
    {
      "cell_type": "code",
      "source": [
        "om_mel = df[df['Campeón'] == 'Mel']['Oro por Minuto'].mean()\n",
        "wr_mel = df[df['Campeón'] == 'Mel']['Victoria'].mean()\n",
        "wc_mel = df[df['Campeón'] == 'Mel']['Wards por M'].mean()\n",
        "om_mel, wr_mel, wc_mel\n"
      ],
      "metadata": {
        "id": "2ykDFp0vlS3a",
        "colab": {
          "base_uri": "https://localhost:8080/"
        },
        "outputId": "aa119562-109d-48f7-d90d-163ffcea3389"
      },
      "execution_count": 67,
      "outputs": [
        {
          "output_type": "execute_result",
          "data": {
            "text/plain": [
              "(np.float64(347.1328431372549),\n",
              " np.float64(0.5),\n",
              " np.float64(0.8838235294117647))"
            ]
          },
          "metadata": {},
          "execution_count": 67
        }
      ]
    },
    {
      "cell_type": "code",
      "source": [
        "pkd_mel = df[(df['Campeón'] == 'Mel') & (df['Duo'] == 1)]['Kills'].mean()\n",
        "pad_mel = df[(df['Campeón'] == 'Mel') & (df['Duo'] == 1)]['Assists'].mean()\n",
        "pdd_mel = df[(df['Campeón'] == 'Mel') & (df['Duo'] == 1)]['Deaths'].mean()\n",
        "pkd_mel, pa_mel, pd_mel\n"
      ],
      "metadata": {
        "id": "OJ8oxG-ulYmg",
        "colab": {
          "base_uri": "https://localhost:8080/"
        },
        "outputId": "76b97f92-de7a-4559-95de-2296633f24f8"
      },
      "execution_count": 68,
      "outputs": [
        {
          "output_type": "execute_result",
          "data": {
            "text/plain": [
              "(np.float64(11.0), np.float64(10.25), np.float64(5.25))"
            ]
          },
          "metadata": {},
          "execution_count": 68
        }
      ]
    },
    {
      "cell_type": "code",
      "source": [
        "omd_mel = df[(df['Campeón'] == 'Mel') & (df['Duo'] == 1)]['Oro por Minuto'].mean()\n",
        "wrd_mel = df[(df['Campeón'] == 'Mel') & (df['Duo'] == 1)]['Victoria'].mean()\n",
        "wcd_mel = df[(df['Campeón'] == 'Mel') & (df['Duo'] == 1)]['Wards por M'].mean()\n",
        "omd_mel, wrd_mel, wcd_mel\n"
      ],
      "metadata": {
        "id": "Ny-5g-eNlbgP",
        "colab": {
          "base_uri": "https://localhost:8080/"
        },
        "outputId": "f1ed5692-5478-4dbe-f3c1-7db2565059b3"
      },
      "execution_count": 69,
      "outputs": [
        {
          "output_type": "execute_result",
          "data": {
            "text/plain": [
              "(np.float64(347.1328431372549),\n",
              " np.float64(0.5),\n",
              " np.float64(0.8838235294117647))"
            ]
          },
          "metadata": {},
          "execution_count": 69
        }
      ]
    },
    {
      "cell_type": "markdown",
      "source": [
        "# Visualización de datos"
      ],
      "metadata": {
        "id": "_rrH6v3VNRWO"
      }
    },
    {
      "cell_type": "code",
      "source": [
        "estado[\"Daño Infligido\"].plot.line(color=\"green\")"
      ],
      "metadata": {
        "id": "zDNK47VDnRfF",
        "colab": {
          "base_uri": "https://localhost:8080/",
          "height": 447
        },
        "outputId": "a125cf0c-26bd-4833-f315-71ddf407b4dd"
      },
      "execution_count": 70,
      "outputs": [
        {
          "output_type": "execute_result",
          "data": {
            "text/plain": [
              "<Axes: >"
            ]
          },
          "metadata": {},
          "execution_count": 70
        },
        {
          "output_type": "display_data",
          "data": {
            "text/plain": [
              "<Figure size 640x480 with 1 Axes>"
            ],
            "image/png": "[encoded data removed]"
          },
          "metadata": {}
        }
      ]
    },
    {
      "cell_type": "code",
      "source": [
        "estado[\"Daño Infligido\"].plot.bar(color=\"orange\")"
      ],
      "metadata": {
        "id": "8BB8c08oneBa",
        "colab": {
          "base_uri": "https://localhost:8080/",
          "height": 451
        },
        "outputId": "3c5b8316-0b38-434e-e60e-cb77de410f81"
      },
      "execution_count": 71,
      "outputs": [
        {
          "output_type": "execute_result",
          "data": {
            "text/plain": [
              "<Axes: >"
            ]
          },
          "metadata": {},
          "execution_count": 71
        },
        {
          "output_type": "display_data",
          "data": {
            "text/plain": [
              "<Figure size 640x480 with 1 Axes>"
            ],
            "image/png": "[encoded data removed]"
          },
          "metadata": {}
        }
      ]
    },
    {
      "cell_type": "code",
      "source": [
        "ax=(estado.Assists).plot.box(figsize=(2,4))\n",
        "ax.set_ylabel(\"# de asistencias\")"
      ],
      "metadata": {
        "id": "7r-p5CMznoxN",
        "colab": {
          "base_uri": "https://localhost:8080/",
          "height": 385
        },
        "outputId": "3236955c-8386-43a5-9c01-f8ab9ed319e3"
      },
      "execution_count": 72,
      "outputs": [
        {
          "output_type": "execute_result",
          "data": {
            "text/plain": [
              "Text(0, 0.5, '# de asistencias')"
            ]
          },
          "metadata": {},
          "execution_count": 72
        },
        {
          "output_type": "display_data",
          "data": {
            "text/plain": [
              "<Figure size 200x400 with 1 Axes>"
            ],
            "image/png": "[encoded data removed]"
          },
          "metadata": {}
        }
      ]
    },
    {
      "cell_type": "code",
      "source": [
        "ax=estado[\"Assists\"].plot.hist(density=True,xlim=[0,12],bins=range(1,12))\n",
        "estado[\"Assists\"].plot.density(ax=ax)\n",
        "ax.set_label(\"Asistencias\")"
      ],
      "metadata": {
        "id": "2fCktIM5n6Jf",
        "colab": {
          "base_uri": "https://localhost:8080/",
          "height": 435
        },
        "outputId": "5fcf02df-b2da-48af-dc47-a5b4c0778117"
      },
      "execution_count": 73,
      "outputs": [
        {
          "output_type": "display_data",
          "data": {
            "text/plain": [
              "<Figure size 640x480 with 1 Axes>"
            ],
            "image/png": "[encoded data removed]"
          },
          "metadata": {}
        }
      ]
    },
    {
      "cell_type": "code",
      "source": [
        "ax = (estado.Deaths).plot.hist(figsize=(4,4))\n",
        "ax.set_ylabel(\"Muertes\")"
      ],
      "metadata": {
        "id": "KC9FWgDEoOmT",
        "colab": {
          "base_uri": "https://localhost:8080/",
          "height": 385
        },
        "outputId": "78ff1608-e433-4f79-e21d-2e13936ff2e5"
      },
      "execution_count": 74,
      "outputs": [
        {
          "output_type": "execute_result",
          "data": {
            "text/plain": [
              "Text(0, 0.5, 'Muertes')"
            ]
          },
          "metadata": {},
          "execution_count": 74
        },
        {
          "output_type": "display_data",
          "data": {
            "text/plain": [
              "<Figure size 400x400 with 1 Axes>"
            ],
            "image/png": "[encoded data removed]"
          },
          "metadata": {}
        }
      ]
    },
    {
      "cell_type": "markdown",
      "source": [
        "# Análisis destacables"
      ],
      "metadata": {
        "id": "RWa1MJJiNaQ0"
      }
    },
    {
      "cell_type": "code",
      "source": [
        "solo_kda= df[df['Duo'] == 1]['KDA'].mean()\n",
        "duo_kda= df[df['Duo'] == 0]['KDA'].mean()\n",
        "solo_kda, duo_kda\n"
      ],
      "metadata": {
        "id": "lpxaz3JZwTWz",
        "colab": {
          "base_uri": "https://localhost:8080/"
        },
        "outputId": "25a78f11-415d-4551-ab7f-2d1ca281dd0e"
      },
      "execution_count": 75,
      "outputs": [
        {
          "output_type": "execute_result",
          "data": {
            "text/plain": [
              "(np.float64(6.188125), np.float64(4.788181818181818))"
            ]
          },
          "metadata": {},
          "execution_count": 75
        }
      ]
    },
    {
      "cell_type": "code",
      "source": [
        "kda_prom= df['KDA'].mean()\n",
        "kills_prom= df['Kills'].mean()\n",
        "assists_prom= df['Assists'].mean()\n",
        "deaths_prom= df['Deaths'].mean()\n",
        "kda_prom, kills_prom, assists_prom, deaths_prom"
      ],
      "metadata": {
        "id": "o0bkPekNy8rG",
        "colab": {
          "base_uri": "https://localhost:8080/"
        },
        "outputId": "09e147be-6640-4de4-99c9-4b1b83f86ea1"
      },
      "execution_count": 76,
      "outputs": [
        {
          "output_type": "execute_result",
          "data": {
            "text/plain": [
              "(np.float64(5.617777777777778),\n",
              " np.float64(3.1481481481481484),\n",
              " np.float64(14.444444444444445),\n",
              " np.float64(4.777777777777778))"
            ]
          },
          "metadata": {},
          "execution_count": 76
        }
      ]
    },
    {
      "cell_type": "code",
      "source": [
        "kdad_prom= df[df['Duo'] == 1]['KDA'].mean()\n",
        "killsd_prom= df[df['Duo'] == 1]['Kills'].mean()\n",
        "assistsd_prom= df[df['Duo'] == 1]['Assists'].mean()\n",
        "deathsd_prom= df[df['Duo'] == 1]['Deaths'].mean()\n",
        "kdad_prom, killsd_prom, assistsd_prom, deathsd_prom"
      ],
      "metadata": {
        "id": "pRjSxr5k5oAT",
        "colab": {
          "base_uri": "https://localhost:8080/"
        },
        "outputId": "a7cab34a-6bcc-4309-c8d0-916740e68e72"
      },
      "execution_count": 77,
      "outputs": [
        {
          "output_type": "execute_result",
          "data": {
            "text/plain": [
              "(np.float64(6.188125), np.float64(4.5), np.float64(16.6875), np.float64(4.25))"
            ]
          },
          "metadata": {},
          "execution_count": 77
        }
      ]
    },
    {
      "cell_type": "code",
      "source": [
        "wmd_prom= df[df['Duo'] == 1]['Wards por M'].mean()\n",
        "wmd_prom"
      ],
      "metadata": {
        "id": "wFOOXXiC5_om",
        "colab": {
          "base_uri": "https://localhost:8080/"
        },
        "outputId": "ee06dff2-dd5a-4278-81ec-393d779a6e06"
      },
      "execution_count": 78,
      "outputs": [
        {
          "output_type": "execute_result",
          "data": {
            "text/plain": [
              "np.float64(0.9627439795658306)"
            ]
          },
          "metadata": {},
          "execution_count": 78
        }
      ]
    },
    {
      "cell_type": "code",
      "source": [
        "duo_counts = df['Duo'].value_counts()\n",
        "\n",
        "victorias_duo = df[df['Duo'] == 1]['Victoria'].sum()\n",
        "partidas_duo = df[df['Duo'] == 1].shape[0]\n",
        "\n",
        "victorias_solo = df[df['Duo'] == 0]['Victoria'].sum()\n",
        "partidas_solo = df[df['Duo'] == 0].shape[0]\n",
        "\n",
        "winrate_duo = victorias_duo / partidas_duo\n",
        "winrate_solo = victorias_solo / partidas_solo\n",
        "\n",
        "print(f\" En modo dúo jugó {partidas_duo} partidas y ganó {victorias_duo}. Winrate: {winrate_duo:.2%}\")\n",
        "print(f\" En modo solo jugó {partidas_solo} partidas y ganó {victorias_solo}. Winrate: {winrate_solo:.2%}\")"
      ],
      "metadata": {
        "colab": {
          "base_uri": "https://localhost:8080/"
        },
        "id": "2QReAm1ILFNk",
        "outputId": "9ea7ae0d-aee9-44b7-a95f-515021c6445e"
      },
      "execution_count": 79,
      "outputs": [
        {
          "output_type": "stream",
          "name": "stdout",
          "text": [
            " En modo dúo jugó 16 partidas y ganó 12. Winrate: 75.00%\n",
            " En modo solo jugó 11 partidas y ganó 3. Winrate: 27.27%\n"
          ]
        }
      ]
    },
    {
      "cell_type": "code",
      "source": [
        "campeones_jugados = df['Campeón'].value_counts()\n",
        "print(\"Campeones más jugados:\\n\", campeones_jugados)\n",
        "\n",
        "winrate_por_campeon = df.groupby('Campeón')['Victoria'].mean().sort_values(ascending=False)\n",
        "print(\" Winrate por campeón:\\n\", winrate_por_campeon)"
      ],
      "metadata": {
        "colab": {
          "base_uri": "https://localhost:8080/"
        },
        "id": "wz9VL0QHLPEz",
        "outputId": "2073702f-1c85-4d1a-c528-a835d4e9fc60"
      },
      "execution_count": 80,
      "outputs": [
        {
          "output_type": "stream",
          "name": "stdout",
          "text": [
            "Campeones más jugados:\n",
            " Campeón\n",
            "Lulu            8\n",
            "Leona           4\n",
            "Mel             4\n",
            "Nami            2\n",
            "Thresh          2\n",
            "Renata Glasc    1\n",
            "Anivia          1\n",
            "Nautilus        1\n",
            "Amumu           1\n",
            "Maokai          1\n",
            "Swain           1\n",
            "Rakan           1\n",
            "Name: count, dtype: int64\n",
            " Winrate por campeón:\n",
            " Campeón\n",
            "Amumu           1.000\n",
            "Swain           1.000\n",
            "Thresh          1.000\n",
            "Nautilus        1.000\n",
            "Renata Glasc    1.000\n",
            "Lulu            0.625\n",
            "Mel             0.500\n",
            "Nami            0.500\n",
            "Leona           0.250\n",
            "Anivia          0.000\n",
            "Maokai          0.000\n",
            "Rakan           0.000\n",
            "Name: Victoria, dtype: float64\n"
          ]
        }
      ]
    },
    {
      "cell_type": "code",
      "source": [
        "winrate_por_campeon.plot(kind='bar', title='Winrate por Campeón', figsize=(8, 4), color='skyblue')\n",
        "plt.ylabel(\"Porcentaje de victorias\")\n",
        "plt.xticks(rotation=45)\n",
        "plt.grid(True, linestyle='--', alpha=0.5)\n",
        "plt.tight_layout()\n",
        "plt.show()"
      ],
      "metadata": {
        "colab": {
          "base_uri": "https://localhost:8080/",
          "height": 407
        },
        "id": "_nKg2b7YLV5t",
        "outputId": "b58ae32e-df48-45c8-a9bf-98961df85839"
      },
      "execution_count": 81,
      "outputs": [
        {
          "output_type": "display_data",
          "data": {
            "text/plain": [
              "<Figure size 800x400 with 1 Axes>"
            ],
            "image/png": "[encoded data removed]"
          },
          "metadata": {}
        }
      ]
    },
    {
      "cell_type": "code",
      "source": [
        "lulu_duo = df[(df['Campeón'] == 'Lulu') & (df['Duo'] == 1)]\n",
        "partidas_lulu_duo = lulu_duo.shape[0]\n",
        "victorias_lulu_duo = lulu_duo['Victoria'].sum()\n",
        "\n",
        "print(f\"Lulu en dúo: {partidas_lulu_duo} partidas jugadas, {victorias_lulu_duo} victorias.\")"
      ],
      "metadata": {
        "colab": {
          "base_uri": "https://localhost:8080/"
        },
        "id": "VfSpBy29LZ8i",
        "outputId": "990a3ab1-3948-49d1-a19e-5cac96a88db1"
      },
      "execution_count": 82,
      "outputs": [
        {
          "output_type": "stream",
          "name": "stdout",
          "text": [
            "Lulu en dúo: 5 partidas jugadas, 4 victorias.\n"
          ]
        }
      ]
    },
    {
      "cell_type": "code",
      "source": [
        "\n",
        "winrate_por_campeon = df.groupby('Campeón')['Victoria'].mean().reset_index()\n",
        "\n",
        "\n",
        "winrate_por_campeon['Alta_efectividad'] = winrate_por_campeon['Victoria'] > 0.5\n",
        "\n",
        "print(winrate_por_campeon)"
      ],
      "metadata": {
        "colab": {
          "base_uri": "https://localhost:8080/"
        },
        "id": "-VHIxTOvLeYE",
        "outputId": "6641490c-d33f-4239-d943-81237d823758"
      },
      "execution_count": 83,
      "outputs": [
        {
          "output_type": "stream",
          "name": "stdout",
          "text": [
            "         Campeón  Victoria  Alta_efectividad\n",
            "0          Amumu     1.000              True\n",
            "1         Anivia     0.000             False\n",
            "2          Leona     0.250             False\n",
            "3           Lulu     0.625              True\n",
            "4         Maokai     0.000             False\n",
            "5            Mel     0.500             False\n",
            "6           Nami     0.500             False\n",
            "7       Nautilus     1.000              True\n",
            "8          Rakan     0.000             False\n",
            "9   Renata Glasc     1.000              True\n",
            "10         Swain     1.000              True\n",
            "11        Thresh     1.000              True\n"
          ]
        }
      ]
    },
    {
      "cell_type": "code",
      "source": [
        "\n",
        "plt.figure(figsize=(8,4))\n",
        "sns.barplot(data=winrate_por_campeon.sort_values(\"Victoria\", ascending=False),\n",
        "            x=\"Campeón\", y=\"Victoria\", hue=\"Alta_efectividad\", dodge=False, palette=\"Set2\")\n",
        "plt.xticks(rotation=45)\n",
        "plt.title(\"Winrate por campeón y clasificación de efectividad\")\n",
        "plt.ylabel(\"Winrate\")\n",
        "plt.grid(axis='y', linestyle='--', alpha=0.5)\n",
        "plt.tight_layout()\n",
        "plt.show()"
      ],
      "metadata": {
        "colab": {
          "base_uri": "https://localhost:8080/",
          "height": 407
        },
        "id": "5XGkGEYULysG",
        "outputId": "68f2772e-c28d-4d70-dd04-e90d7419e259"
      },
      "execution_count": 84,
      "outputs": [
        {
          "output_type": "display_data",
          "data": {
            "text/plain": [
              "<Figure size 800x400 with 1 Axes>"
            ],
            "image/png": "[encoded data removed]"
          },
          "metadata": {}
        }
      ]
    },
    {
      "cell_type": "code",
      "source": [
        "control_vision_support = df['Wards por M'].mean()\n",
        "print(f\"Promedio general de wards por minuto: {control_vision_support:.2f}\")"
      ],
      "metadata": {
        "colab": {
          "base_uri": "https://localhost:8080/"
        },
        "id": "CMR7LLjLI5Do",
        "outputId": "cf2983d8-d4ec-48e6-cf95-dc6e4687fc42"
      },
      "execution_count": 85,
      "outputs": [
        {
          "output_type": "stream",
          "name": "stdout",
          "text": [
            "Promedio general de wards por minuto: 0.92\n"
          ]
        }
      ]
    },
    {
      "cell_type": "code",
      "source": [
        "vision_duo = df[df['Duo'] == 1]['Wards por M'].mean()\n",
        "print(f\"Wards por minuto en partidas dúo: {vision_duo:.2f}\")"
      ],
      "metadata": {
        "colab": {
          "base_uri": "https://localhost:8080/"
        },
        "id": "boM6djxEI7i5",
        "outputId": "e826c174-a521-4c31-a027-09a855faf452"
      },
      "execution_count": 86,
      "outputs": [
        {
          "output_type": "stream",
          "name": "stdout",
          "text": [
            "Wards por minuto en partidas dúo: 0.96\n"
          ]
        }
      ]
    },
    {
      "cell_type": "code",
      "source": [
        "vision_lulu = df[df['Campeón'] == 'Lulu']['Wards por M'].mean()\n",
        "vision_leona = df[df['Campeón'] == 'Leona']['Wards por M'].mean()\n",
        "vision_mel = df[df['Campeón'] == 'Mel']['Wards por M'].mean()\n",
        "\n",
        "print(f\"Lulu: {vision_lulu:.2f}, Leona: {vision_leona:.2f}, Mel: {vision_mel:.2f}\")"
      ],
      "metadata": {
        "colab": {
          "base_uri": "https://localhost:8080/"
        },
        "id": "v1ZJ46IZI-Fo",
        "outputId": "22031565-a1f0-4bbc-a6ac-f61014e2181c"
      },
      "execution_count": 87,
      "outputs": [
        {
          "output_type": "stream",
          "name": "stdout",
          "text": [
            "Lulu: 0.86, Leona: 1.02, Mel: 0.88\n"
          ]
        }
      ]
    },
    {
      "cell_type": "markdown",
      "source": [
        "| Nivel de juego          | Wards por minuto (total) |\n",
        "| ----------------------- | ------------------------ |\n",
        "| Profesional / alto elo  | 1.0 – 1.5+               |\n",
        "| Bueno en ranked         | 0.8 – 1.2                |\n",
        "| Promedio bajo           | 0.5 – 0.7                |\n",
        "| Pobre control de visión | < 0.5                    |\n"
      ],
      "metadata": {
        "id": "hPHXM5vzJoT9"
      }
    },
    {
      "cell_type": "code",
      "source": [
        "plt.figure(figsize=(6,4))\n",
        "sns.boxplot(data=df, x='Duo', y='Assists', palette='Set2')\n",
        "plt.xticks([0,1], ['Solo', 'Dúo'])\n",
        "plt.title('Distribución de asistencias por tipo de partida')\n",
        "plt.ylabel('Número de asistencias')\n",
        "plt.xlabel('Modo de juego')\n",
        "plt.grid(axis='y', linestyle='--', alpha=0.5)\n",
        "plt.tight_layout()\n",
        "plt.show()"
      ],
      "metadata": {
        "colab": {
          "base_uri": "https://localhost:8080/",
          "height": 494
        },
        "id": "oDBjZHEtLd9e",
        "outputId": "dafaaaa9-e78c-4961-ea7b-5aaf30d3b1a1"
      },
      "execution_count": 89,
      "outputs": [
        {
          "output_type": "stream",
          "name": "stderr",
          "text": [
            "<ipython-input-89-9449a2c53a88>:2: FutureWarning: \n",
            "\n",
            "Passing `palette` without assigning `hue` is deprecated and will be removed in v0.14.0. Assign the `x` variable to `hue` and set `legend=False` for the same effect.\n",
            "\n",
            "  sns.boxplot(data=df, x='Duo', y='Assists', palette='Set2')\n"
          ]
        },
        {
          "output_type": "display_data",
          "data": {
            "text/plain": [
              "<Figure size 600x400 with 1 Axes>"
            ],
            "image/png": "[encoded data removed]"
          },
          "metadata": {}
        }
      ]
    },
    {
      "cell_type": "code",
      "source": [
        "plt.figure(figsize=(8,4))\n",
        "df['Wards por M'].plot(marker='o', color='green')\n",
        "plt.title(\"Wards por minuto a lo largo de las partidas\")\n",
        "plt.xlabel(\"Índice de partida\")\n",
        "plt.ylabel(\"Wards por minuto\")\n",
        "plt.axhline(1, color='red', linestyle='--', label='Referencia: 1 ward/min')\n",
        "plt.legend()\n",
        "plt.grid(True, linestyle='--', alpha=0.5)\n",
        "plt.tight_layout()\n",
        "plt.show()"
      ],
      "metadata": {
        "colab": {
          "base_uri": "https://localhost:8080/",
          "height": 407
        },
        "id": "zWs0lBmdLnzO",
        "outputId": "0cce9c6c-e1ff-44e9-f9c2-3a6f3b5b7208"
      },
      "execution_count": 90,
      "outputs": [
        {
          "output_type": "display_data",
          "data": {
            "text/plain": [
              "<Figure size 800x400 with 1 Axes>"
            ],
            "image/png": "[encoded data removed]"
          },
          "metadata": {}
        }
      ]
    },
    {
      "cell_type": "code",
      "source": [
        "soportes = df[df['Campeón'].isin(['Lulu', 'Leona', 'Mel'])]\n",
        "resumen = soportes.groupby('Campeón')[['Assists', 'Wards por M', 'Deaths']].mean()\n",
        "\n",
        "resumen.plot(kind='bar', figsize=(8,5), colormap='Set2')\n",
        "plt.title(\"Promedio de asistencias, visión y muertes por campeón soporte\")\n",
        "plt.ylabel(\"Valor promedio\")\n",
        "plt.xticks(rotation=0)\n",
        "plt.grid(axis='y', linestyle='--', alpha=0.5)\n",
        "plt.tight_layout()\n",
        "plt.show()"
      ],
      "metadata": {
        "colab": {
          "base_uri": "https://localhost:8080/",
          "height": 507
        },
        "id": "vAc-epi8LweG",
        "outputId": "c55db720-98ca-4cb0-9950-aa74c16490f6"
      },
      "execution_count": 94,
      "outputs": [
        {
          "output_type": "display_data",
          "data": {
            "text/plain": [
              "<Figure size 800x500 with 1 Axes>"
            ],
            "image/png": "[encoded data removed]"
          },
          "metadata": {}
        }
      ]
    },
    {
      "cell_type": "code",
      "source": [
        "oro_por_minuto = soportes.groupby('Campeón')['Oro por Minuto'].mean()\n",
        "oro_por_minuto.plot(kind='bar', color='gold', figsize=(6,4))\n",
        "plt.title(\"Promedio de oro por minuto por campeón soporte\")\n",
        "plt.ylabel(\"Oro por minuto\")\n",
        "plt.xticks(rotation=0)\n",
        "plt.grid(axis='y', linestyle='--', alpha=0.5)\n",
        "plt.tight_layout()\n",
        "plt.show()"
      ],
      "metadata": {
        "colab": {
          "base_uri": "https://localhost:8080/",
          "height": 407
        },
        "id": "1nOM0GVGO0-7",
        "outputId": "3f507010-590d-40d5-b84d-068d1f81de46"
      },
      "execution_count": 96,
      "outputs": [
        {
          "output_type": "display_data",
          "data": {
            "text/plain": [
              "<Figure size 600x400 with 1 Axes>"
            ],
            "image/png": "[encoded data removed]"
          },
          "metadata": {}
        }
      ]
    },
    {
      "cell_type": "markdown",
      "source": [
        "# Destacados\n",
        "De 16 partidas jugadas en DUO, solo perdio 3, ahora por el lado del ranking que de las mismas 16 partidas solo en 4 no estuvo en el top 3"
      ],
      "metadata": {
        "id": "Gtxrs9clNmlM"
      }
    }
  ]
}